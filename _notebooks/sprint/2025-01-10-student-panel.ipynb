{
 "cells": [
  {
   "cell_type": "markdown",
   "metadata": {},
   "source": [
    "---\n",
    "layout: post\n",
    "title: Student Panel blog\n",
    "description: My notes from the college student panel\n",
    "permalink: /notes/\n",
    "---"
   ]
  },
  {
   "cell_type": "markdown",
   "metadata": {},
   "source": [
    "Things to think about and know, General advice in the real world\n",
    "- Projects and technical skills\n",
    "- How to think like a programmer\n",
    "- Best ways to find internships in college\n",
    "    - Search online for jobs/internships\n",
    "    - reach out to smaller startups\n",
    "- Make connections\n",
    "- Don’t wait to be asked, be proactive and suggest your solutions\n",
    "- Understand problems in the world\n",
    "- Know how to answer the question “Tell me about yourself”\n",
    "- Colleges that accept AP credits are good(not like ivys) if not better than those that don't\n",
    "- Communicate ideas efficiently(THIS IS IMPORTANT) less is more\n",
    "- Think about what impact I gave in high school \n",
    "More specific points about CS\n",
    "- Understand your code and know what each line is for\n",
    "- Explain what you want to do and your process\n",
    "- Make websites, meet new people\n",
    "- Consider club activities and involvements, it will be highly encouraged\n",
    "- Go to career fairs\n",
    "- Look through github to see what other people have made\n",
    "- Talk to other people about projects\n",
    "\n",
    "Overall, there are a lot of things to consider as I go into the future. \n",
    "I asked Edwin about what he would recommend I do in order to strengthen my knowledge of CS, suggestions that he made were:\n",
    "- join clubs at Del Norte, or get leadership in the ones that I'm in \n",
    "- possibly reach out to UCSD students and CyberSecurity or Computer Science related clubs to learn from them as well\n",
    "- work on projects, it doesn't matter how big or small they are"
   ]
  }
 ],
 "metadata": {
  "language_info": {
   "name": "python"
  }
 },
 "nbformat": 4,
 "nbformat_minor": 2
}
