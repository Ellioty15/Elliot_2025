{
 "cells": [
  {
   "cell_type": "markdown",
   "metadata": {},
   "source": [
    "---\n",
    "layout: post\n",
    "title: Student Panel blog\n",
    "description: My notes from the college student panel\n",
    "permalink: /tech_talk1/\n",
    "---"
   ]
  },
  {
   "cell_type": "markdown",
   "metadata": {},
   "source": [
    "# Notes\n",
    "### CRUD\n",
    "- Create, Read, Update, Delete\n",
    "    - Creating new user\n",
    "    - Showing the table is Read\n",
    "    - You can update or delete users\n",
    "    - fetches every time one of these functions happen, APIs are connected to each function\n",
    "\n",
    "### HTML5\n",
    "- can do some validations\n",
    "- Table and form formats\n",
    "\n",
    "### API Request and Response\n",
    "- endpoint, method, data you want to retrieve\n",
    "- request goes through API, then calls to Database, gives response\n",
    "- Put can update data\n",
    "- Delete can cause dangling posts, can be better to deactivate users\n",
    "\n",
    "### Backend API\n",
    "- validate input\n",
    "- Query of Database\n",
    "- Class Method Call\n",
    "- RESTful Response\n",
    "\n",
    "### Response Handling\n",
    "- you can hard code data, call it json so that you don't need to worry about backend\n",
    "- dom: creating document elements\n",
    "---\n",
    "# Important code\n",
    "### User\n",
    "- user_obj =User(name=name, uid=uid) - builds a basic object\n",
    "- users=User.query.all() - reads all records in database, extract all users in a database\n",
    "### Put\n",
    "- user=User.query.filter_by(_uid=uid).first()\n",
    "### other lines\n",
    "@token required()-reads who is logged in, \n",
    "@token required(\"admin\")-only lets admin perform things\n",
    "\n"
   ]
  },
  {
   "cell_type": "markdown",
   "metadata": {},
   "source": []
  }
 ],
 "metadata": {
  "language_info": {
   "name": "python"
  }
 },
 "nbformat": 4,
 "nbformat_minor": 2
}
