{
 "cells": [
  {
   "cell_type": "markdown",
   "metadata": {},
   "source": [
    "---\n",
    "layout: post\n",
    "title: 3.2 hacks\n",
    "description: 3.2 homework and popcorn hacks\n",
    "categories: [JavaScript]\n",
    "permalink: /hw1/\n",
    "---"
   ]
  },
  {
   "cell_type": "code",
   "execution_count": 1,
   "metadata": {},
   "outputs": [
    {
     "name": "stdout",
     "output_type": "stream",
     "text": [
      "The sum of 1 and 2 is: 3\n"
     ]
    }
   ],
   "source": [
    "#Popcorn Hack 3.2.1\n",
    "\n",
    "def add_two_numbers(num1, num2):\n",
    "    \"\"\"Function to add two integers.\"\"\"\n",
    "    return num1 + num2\n",
    "\n",
    "# Get user input\n",
    "try:\n",
    "    # Prompt the user for two integers\n",
    "    first_number = int(input(\"Enter the first integer: \"))\n",
    "    second_number = int(input(\"Enter the second integer: \"))\n",
    "\n",
    "    # Call the function to add the numbers\n",
    "    result = add_two_numbers(first_number, second_number)\n",
    "\n",
    "    # Print the result\n",
    "    print(f\"The sum of {first_number} and {second_number} is: {result}\")\n",
    "\n",
    "except ValueError:\n",
    "    print(\"Please enter valid integers.\")\n"
   ]
  },
  {
   "cell_type": "code",
   "execution_count": 5,
   "metadata": {},
   "outputs": [
    {
     "name": "stdout",
     "output_type": "stream",
     "text": [
      "{'name': 'Alice', 'age': 26, 'is_student': False, 'David': {'name': 'David', 'age': 22, 'is_student': True}}\n"
     ]
    }
   ],
   "source": [
    "#Popcorn Hack 3.2.2\n",
    "# Creating a dictionary\n",
    "person = {\n",
    "    \"name\": \"Alice\",\n",
    "    \"age\": 25,\n",
    "    \"is_student\": False\n",
    "}\n",
    "\n",
    "# Update an item in the dictionary\n",
    "person[\"age\"] = 26  # Updating Alice's age\n",
    "\n",
    "# Adding a new item (a new person entry in this case)\n",
    "person[\"David\"] = {\n",
    "    \"name\": \"David\",   \n",
    "    \"age\": 22,\n",
    "    \"is_student\": True\n",
    "}\n",
    "\n",
    "# Printing the updated dictionary\n",
    "print(person)\n"
   ]
  },
  {
   "cell_type": "code",
   "execution_count": 11,
   "metadata": {},
   "outputs": [
    {
     "name": "stdout",
     "output_type": "stream",
     "text": [
      "Updated Person Dictionary: {'name': 'Alice', 'age': 31}\n"
     ]
    }
   ],
   "source": [
    "# Starting dictionary\n",
    "person = {\n",
    "    \"name\": \"Alice\",\n",
    "    \"age\": 30\n",
    "}\n",
    "\n",
    "# i. Update the age to 31\n",
    "person[\"age\"] = 31\n",
    "\n",
    "# ii. Print the updated dictionary\n",
    "print(\"Updated Person Dictionary:\", person)\n"
   ]
  }
 ],
 "metadata": {
  "kernelspec": {
   "display_name": "venv",
   "language": "python",
   "name": "python3"
  },
  "language_info": {
   "codemirror_mode": {
    "name": "ipython",
    "version": 3
   },
   "file_extension": ".py",
   "mimetype": "text/x-python",
   "name": "python",
   "nbconvert_exporter": "python",
   "pygments_lexer": "ipython3",
   "version": "3.12.3"
  }
 },
 "nbformat": 4,
 "nbformat_minor": 2
}
