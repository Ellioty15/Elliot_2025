{
 "cells": [
  {
   "cell_type": "markdown",
   "metadata": {},
   "source": [
    "---\n",
    "layout: post\n",
    "title: blog for feautures, review\n",
    "description: My feautures for my website\n",
    "permalink: /frostbyte_blog/\n",
    "---"
   ]
  },
  {
   "cell_type": "markdown",
   "metadata": {},
   "source": [
    "# Purpose of our group's program: \n",
    "- Create a social media site that connects people who are interested in camping and national parks.\n",
    "# Purpose of your individual feature(s)\n",
    "- My feature: Integrate Gemini AI into our website so that users can interact and receive responses about camping.\n",
    "\n",
    "### Using frontend show  API request and  present API response. (live demo)\n",
    "- message through frontend, show terminal, response will be returned from the backend.\n",
    "### Using postman to show raw API request and RESTful response (error code(s) and JSON)\n",
    "- put in requests from postman, show what happens when there is an error\n",
    "### Using db_init, db_restore, db_backup to show tester data creation and data recovery.\n",
    "- after the files are run, a table is created and data will be recovered\n",
    "### List requests.  Use of list, dictionaries and database.  Code descriptions of area where you work with list (rows) and dictionaries (columns) of the database.\n",
    "- The model file uses list, dictionaries and creates a database. A row is created by the dictionary, and by putting in different categories into a list under that dictionary, it creates a row\n",
    "### Discuss formatting response data (JSON) from API into DOM\n",
    "- a request is sent into the back end, data is read. this data is changed by JSON to DOM which is shown by the front end.\n",
    "### Discuss queries from database where you extract a Python List (rows). Mention how these queries are provide by a 3rd. party library.\n",
    "-  message = AIMessage.query.get(message_id)\n",
    "- calls to my table for a message id\n",
    "\n",
    "### Discuss methods in \"class\"  you created to work with columns (create, read, update, delete)\n",
    "- Create: inputting a message\n",
    "- Read: showing the message, chatbot responds\n",
    "- Update: updating a message, able to change the text\n",
    "- Delete: delete a message\n",
    "### Algorithmic code request. Show the definition of code blocks to handle a request.\n",
    "- receive request from the frontend, process input, make a response\n",
    "### Discuss API class (code block) you used to perform  get, post, put, and delete methods.\n",
    "- model code\n",
    "### Discuss a method/procedure in class that contains sequencing, selection, and iteration.\n",
    "- sequencing: going in order \n",
    "    - example: making the dictionary and lists\n",
    "- selection: testing conditions\n",
    "    - example: if not\n",
    "- iteration: constantly happening  \n",
    "    - example: updating message history\n",
    "### Discuss the parameters (body of request) and return type (jasonify) of the function.\n",
    "- user input as a string\n",
    "- returns AI messages as JSON\n",
    "### Call to Algorithm request.  Show the definition of code block to make a request.\n",
    "- def generate_ai_response\n",
    "### Discuss the call/request to the method with Algorithm (fetch to endpoint).\n",
    "- from front end, fetch to /api/chatbot\n",
    "- fetches JSON \n",
    "### Discuss the return/response from the method with Algorithm (fetch) and how you handle data.\n",
    "- return with JSON using class chatbot\n",
    "### Show how changing data or method triggers a different response, specifically normal conditions and error conditions.\n",
    "\n",
    "\n",
    "# CPT requirements\n",
    "- CPT tasks\n",
    "- The user(input from the user)\n",
    "- online data stream: communicates with backend files to store data\n",
    "- lists are used in order to create table from the backend\n",
    "### my procedure contributes to my Flocker social media site by providing information about camping.\n",
    "- the backend defines /chatbot as an endpoint of my gemini AI as a procedure\n",
    "- return type JSON\n",
    "- one or more parameters\n",
    "- I use crud methodologies that use sequencing, selection, and iteration\n",
    "- My frontend calls to my backend endpoints\n",
    "- output is returned visibly through text"
   ]
  }
 ],
 "metadata": {
  "language_info": {
   "name": "python"
  }
 },
 "nbformat": 4,
 "nbformat_minor": 2
}
