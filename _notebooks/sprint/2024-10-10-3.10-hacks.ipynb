{
 "cells": [
  {
   "cell_type": "markdown",
   "metadata": {},
   "source": [
    "---\n",
    "layout: post\n",
    "title: 3.10 hacks\n",
    "description: 3.10 popcorn hack and homework hacks\n",
    "categories: [JavaScript]\n",
    "permalink: /hw2/\n",
    "---\n"
   ]
  },
  {
   "cell_type": "code",
   "execution_count": 1,
   "metadata": {},
   "outputs": [
    {
     "name": "stdout",
     "output_type": "stream",
     "text": [
      "['Soda', 'Nachos']\n"
     ]
    }
   ],
   "source": [
    "#Popcorn hack 1:\n",
    "# Step 1: Create a list of your choosing\n",
    "my_list = [\"Popcorn\", \"Soda\", \"Candy\", \"Nachos\", \"Chocolate\"]\n",
    "\n",
    "# Step 2: Remove the last element from the list\n",
    "my_list.pop()\n",
    "\n",
    "# Step 3: Remove the first element from the list\n",
    "my_list.pop(0)\n",
    "\n",
    "# Step 4: Remove an element from the middle of the list (e.g., index 1)\n",
    "my_list.pop(1)\n",
    "\n",
    "# Step 5: Print the final list\n",
    "print(my_list)\n"
   ]
  },
  {
   "cell_type": "code",
   "execution_count": 2,
   "metadata": {},
   "outputs": [
    {
     "name": "stdout",
     "output_type": "stream",
     "text": [
      "['Chocolate', 'Nachos', 'Candy', 'Soda', 'Popcorn']\n"
     ]
    }
   ],
   "source": [
    "#Popcorn Hack 2:\n",
    "# Step 1: Create a list\n",
    "my_list = [\"Popcorn\", \"Soda\", \"Candy\", \"Nachos\", \"Chocolate\"]\n",
    "\n",
    "# Step 2: Reverse the list in place\n",
    "my_list.reverse()\n",
    "\n",
    "# Step 3: Print the reversed list\n",
    "print(my_list)\n"
   ]
  },
  {
   "cell_type": "code",
   "execution_count": 3,
   "metadata": {},
   "outputs": [
    {
     "name": "stdout",
     "output_type": "stream",
     "text": [
      "[2, 4, 6]\n"
     ]
    }
   ],
   "source": [
    "#Python Hack\n",
    "#  Step 1: Create a list of numbers\n",
    "numbers = [1, 2, 3, 4, 5, 6]\n",
    "\n",
    "# Step 2: Use list comprehension to filter even numbers\n",
    "even_numbers = [num for num in numbers if num % 2 == 0]\n",
    "\n",
    "# Step 3: Print the even numbers\n",
    "print(even_numbers)  # Output: [2, 4, 6]\n"
   ]
  },
  {
   "cell_type": "code",
   "execution_count": 5,
   "metadata": {
    "vscode": {
     "languageId": "javascript"
    }
   },
   "outputs": [
    {
     "ename": "SyntaxError",
     "evalue": "invalid syntax (192623039.py, line 3)",
     "output_type": "error",
     "traceback": [
      "\u001b[0;36m  Cell \u001b[0;32mIn[5], line 3\u001b[0;36m\u001b[0m\n\u001b[0;31m    // Create an array of numbers\u001b[0m\n\u001b[0m    ^\u001b[0m\n\u001b[0;31mSyntaxError\u001b[0m\u001b[0;31m:\u001b[0m invalid syntax\n"
     ]
    }
   ],
   "source": [
    "#Javascript Hack\n",
    "%%javascript\n",
    "// Create an array of numbers\n",
    "const numbers = [1, 2, 3, 4, 5];\n",
    "\n",
    "// Use reduce to sum all the numbers in the array\n",
    "const sum = numbers.reduce((accumulator, current) => accumulator + current, 0);\n",
    "\n",
    "// Output the sum\n",
    "console.log(\"Sum:\", sum);  // Output: 15\n",
    "\n",
    "// Create a mapping of integers to their word equivalents\n",
    "const numberWords = {\n",
    "    1: \"one\",\n",
    "    3: \"three\",\n",
    "    4: \"four\",\n",
    "    8: \"eight\",\n",
    "    9: \"nine\",\n",
    "    77: \"seventy-seven\",\n",
    "    80: \"eighty\"\n",
    "};\n",
    "\n",
    "// Create an array of integers to be converted to words\n",
    "const integers = [1, 3, 8, 9, 77, 80];\n",
    "\n",
    "// Convert the integers to words\n",
    "let words = integers.map(num => numberWords[num]);\n",
    "console.log(\"Numbers as words:\", words);  // Output: [\"one\", \"three\", \"eight\", \"nine\", \"seventy-seven\", \"eighty\"]\n",
    "\n",
    "// Sort the words alphabetically\n",
    "words.sort();\n",
    "console.log(\"Alphabetically sorted words:\", words);  // Output: [\"eight\", \"eighty\", \"nine\", \"one\", \"seventy-seven\", \"three\"]\n"
   ]
  }
 ],
 "metadata": {
  "kernelspec": {
   "display_name": "Python 3",
   "language": "python",
   "name": "python3"
  },
  "language_info": {
   "codemirror_mode": {
    "name": "ipython",
    "version": 3
   },
   "file_extension": ".py",
   "mimetype": "text/x-python",
   "name": "python",
   "nbconvert_exporter": "python",
   "pygments_lexer": "ipython3",
   "version": "3.12.3"
  }
 },
 "nbformat": 4,
 "nbformat_minor": 2
}
