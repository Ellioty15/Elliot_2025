{
 "cells": [
  {
   "cell_type": "code",
   "execution_count": 2,
   "metadata": {},
   "outputs": [
    {
     "name": "stdout",
     "output_type": "stream",
     "text": [
      "1\n",
      "2\n",
      "3\n",
      "4\n",
      "5\n",
      "6\n",
      "7\n",
      "8\n",
      "9\n",
      "10\n",
      "name: Aashray\n",
      "age: 15\n",
      "city: San Diego\n"
     ]
    }
   ],
   "source": [
    "# Example 1: Loop through a list\n",
    "numbers = [1, 2, 3, 4, 5, 6, 7, 8, 9, 10] #these are the numbers in the list, and numbers are declared inside the brackets and set = to numbers\n",
    "for num in numbers: #for each num(number) declared in the bracket, \n",
    "    print(num)  #print the numbers: it will print the numbers untill all of them have been printed."
   ]
  },
  {
   "cell_type": "code",
   "execution_count": null,
   "metadata": {},
   "outputs": [],
   "source": [
    "# Example 2: Loop through a dictionary\n",
    "person = {\n",
    "    \"name\": \"Aashray\",\n",
    "    \"age\": 15,\n",
    "    \"city\": \"San Diego\"\n",
    "} #this is the dictionary\n",
    "\n",
    "# Using a loop to go through each key and value in the dictionary\n",
    "for key, value in person.items():\n",
    "    print(key + \": \" + str(value))  # Display each key with its value\n"
   ]
  },
  {
   "cell_type": "markdown",
   "metadata": {},
   "source": [
    "Practice problem for looping with lists and dictionaries"
   ]
  },
  {
   "cell_type": "code",
   "execution_count": 2,
   "metadata": {},
   "outputs": [
    {
     "name": "stdout",
     "output_type": "stream",
     "text": [
      "85\n",
      "92\n",
      "78\n",
      "90\n",
      "88\n"
     ]
    }
   ],
   "source": [
    "# Example\n",
    "# List of test scores\n",
    "scores = [85, 92, 78, 90, 88]\n",
    "\n",
    "# Your task:\n",
    "# 1. Write a loop to print each score\n",
    "\n",
    "\n",
    "\n",
    "\n",
    "\n",
    "\n",
    "\n",
    "# answer\n",
    "for num in scores:\n",
    "    print(num)\n",
    "\n"
   ]
  },
  {
   "cell_type": "code",
   "execution_count": 3,
   "metadata": {},
   "outputs": [
    {
     "name": "stdout",
     "output_type": "stream",
     "text": [
      "Index: 0\n",
      "Element: 4\n",
      "Index: 1\n",
      "Element: 6\n",
      "Index: 2\n",
      "Element: 7\n",
      "Index: 3\n",
      "Element: 2\n"
     ]
    }
   ],
   "source": [
    "lst = [4, 6, 7, 2]\n",
    "\n",
    "for i in range(len(lst)):  # Loop through each index\n",
    "    print('Index: ' + str(i))  # Print the index\n",
    "    print('Element: ' + str(lst[i]))  # Print the element at that index\n"
   ]
  },
  {
   "cell_type": "markdown",
   "metadata": {},
   "source": [
    "Practice problems"
   ]
  },
  {
   "cell_type": "code",
   "execution_count": null,
   "metadata": {},
   "outputs": [],
   "source": [
    "# List of names\n",
    "names = [\"Alice\", \"Bob\", \"Charlie\", \"Diana\"]\n",
    "\n",
    "# Write a loop to print the index and name at that index\n"
   ]
  },
  {
   "cell_type": "code",
   "execution_count": 5,
   "metadata": {},
   "outputs": [
    {
     "name": "stdout",
     "output_type": "stream",
     "text": [
      "Index: 0\n",
      "Element: 5.99\n",
      "32.230000000000004\n",
      "Index: 1\n",
      "Element: 12.5\n",
      "32.230000000000004\n",
      "Index: 2\n",
      "Element: 3.75\n",
      "32.230000000000004\n",
      "Index: 3\n",
      "Element: 9.99\n",
      "32.230000000000004\n"
     ]
    }
   ],
   "source": [
    "# List of prices\n",
    "prices = [5.99, 12.50, 3.75, 9.99]\n",
    "\n",
    "# Your task:\n",
    "# 1. Write a loop to print the index and price at each index\n",
    "# 2. Calculate and print the total price of all items"
   ]
  },
  {
   "cell_type": "code",
   "execution_count": null,
   "metadata": {},
   "outputs": [],
   "source": []
  }
 ],
 "metadata": {
  "kernelspec": {
   "display_name": "venv",
   "language": "python",
   "name": "python3"
  },
  "language_info": {
   "codemirror_mode": {
    "name": "ipython",
    "version": 3
   },
   "file_extension": ".py",
   "mimetype": "text/x-python",
   "name": "python",
   "nbconvert_exporter": "python",
   "pygments_lexer": "ipython3",
   "version": "3.12.3"
  }
 },
 "nbformat": 4,
 "nbformat_minor": 2
}
