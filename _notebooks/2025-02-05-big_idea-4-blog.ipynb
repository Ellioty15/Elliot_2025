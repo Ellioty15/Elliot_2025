{
 "cells": [
  {
   "cell_type": "markdown",
   "metadata": {},
   "source": [
    "---\n",
    "layout: post\n",
    "title: Big Idea 4 Blog\n",
    "description: my learnings from big idea 4\n",
    "permalink: /big_idea_4/\n",
    "---"
   ]
  },
  {
   "cell_type": "markdown",
   "metadata": {},
   "source": [
    "# Big Idea 4\n",
    "### 4.1 The Internet \n",
    "CSN-1.A Explain how computing devices work together in a network.\n",
    "- computing devices are physical objects that can run a program\n",
    "- computing systems are groups of devices which work together for a common goal\n",
    "- A computer network is a group of interconnected computing devices capable of sending or receiving data\n",
    "- in our project, our computer communicates with the AWS server to get a public url. AWS is a DNS, and it is a seperate device that is connecting to our personal device. This is an example of computer networks.\n"
   ]
  },
  {
   "cell_type": "markdown",
   "metadata": {},
   "source": [
    "### 4.3 Parallel and Distributed Computing\n",
    "CSN-2.B Describe benefits and challenges of parallel and distributed computing.\n",
    "- Our use both parallel and distributed computing.\n",
    "- we can see parallel computing in our website as it can run multiple functions, for example we can have feautures like rating, analytics, and location API on our national parks. Parallel computing is beneficial as we are able to scale it efficiently, however a challenge of parallel computing is that it can use a system's resources when there are more things to process.\n",
    "<img src=\"{{site.baseurl}}/images/parallelcomputing.png\" alt= \"Image 1\">\n",
    "\n",
    "- We see distributed computing using AWS, which runs many different instances using a DNS. In our case, we are able to deploy multiple websites at once. A challenge could be that the amount of instances we are able to run are limited by the resources available and the size of the websites\n",
    "<img src=\"{{site.baseurl}}/images/distributedcomputing.png\" alt= \"Image 2\">\n"
   ]
  }
 ],
 "metadata": {
  "kernelspec": {
   "display_name": "venv",
   "language": "python",
   "name": "python3"
  },
  "language_info": {
   "name": "python",
   "version": "3.12.3"
  }
 },
 "nbformat": 4,
 "nbformat_minor": 2
}
