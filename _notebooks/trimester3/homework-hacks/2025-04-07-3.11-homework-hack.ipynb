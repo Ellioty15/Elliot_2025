{
 "cells": [
  {
   "cell_type": "markdown",
   "metadata": {},
   "source": [
    "---\n",
    "comments: true\n",
    "layout: post\n",
    "title: 3.11 Homework Hack\n",
    "categories: [CSP Big Idea 3.11 ]\n",
    "description: My homework hacks for big idea 3.11\n",
    "permalink: /3.11_homework/\n",
    "---"
   ]
  },
  {
   "cell_type": "code",
   "execution_count": 2,
   "metadata": {},
   "outputs": [
    {
     "name": "stdout",
     "output_type": "stream",
     "text": [
      "First few rows of sorted data:\n",
      "        Product  Price\n",
      "5        Eraser   0.50\n",
      "14  Paper Clips   0.89\n",
      "2        Pencil   0.99\n",
      "9    Glue Stick   1.25\n",
      "1           Pen   1.50\n",
      "Original row count: 15\n",
      "Cleaned row count: 15\n",
      "Price $1.25 was FOUND in the list.\n",
      "Price $6.49 was FOUND in the list.\n",
      "Price $10.00 was NOT FOUND in the list.\n"
     ]
    }
   ],
   "source": [
    "import pandas as pd\n",
    "data = pd.read_csv(\"school_supplies.csv\")\n",
    "data_cleaned = data.dropna()\n",
    "data_sorted = data_cleaned.sort_values(by=\"Price\")\n",
    "price_list = data_sorted[\"Price\"].tolist()\n",
    "print(\"First few rows of sorted data:\")\n",
    "print(data_sorted.head())\n",
    "print(\"Original row count:\", len(data))\n",
    "print(\"Cleaned row count:\", len(data_cleaned))\n",
    "\n",
    "\n",
    "\n",
    "def binary_search(prices, target):\n",
    "    left, right = 0, len(prices) - 1\n",
    "    while left <= right:\n",
    "        mid = (left + right) // 2\n",
    "        if prices[mid] == target:\n",
    "            return True\n",
    "        elif prices[mid] < target:\n",
    "            left = mid + 1\n",
    "        else:\n",
    "            right = mid - 1\n",
    "    return False\n",
    "search_prices = [1.25, 6.49, 10.00]\n",
    "\n",
    "for price in search_prices:\n",
    "    found = binary_search(price_list, price)\n",
    "    if found:\n",
    "        print(f\"Price ${price:.2f} was FOUND in the list.\")\n",
    "    else:\n",
    "        print(f\"Price ${price:.2f} was NOT FOUND in the list.\")"
   ]
  }
 ],
 "metadata": {
  "kernelspec": {
   "display_name": "venv",
   "language": "python",
   "name": "python3"
  },
  "language_info": {
   "codemirror_mode": {
    "name": "ipython",
    "version": 3
   },
   "file_extension": ".py",
   "mimetype": "text/x-python",
   "name": "python",
   "nbconvert_exporter": "python",
   "pygments_lexer": "ipython3",
   "version": "3.12.3"
  }
 },
 "nbformat": 4,
 "nbformat_minor": 2
}
