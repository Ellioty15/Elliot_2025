{
 "cells": [
  {
   "cell_type": "markdown",
   "metadata": {},
   "source": [
    "---\n",
    "comments: true\n",
    "layout: post\n",
    "title: 5.5 Homework Hack\n",
    "categories: [CSP Big Idea 5.5 ]\n",
    "description: My homework hacks for big idea 5.5\n",
    "permalink: /5.5_homework/\n",
    "\n",
    "---"
   ]
  },
  {
   "cell_type": "markdown",
   "metadata": {},
   "source": [
    "# Homework Hack: Choosing a License for Personal Repo\n",
    "\n",
    "## Task 1: Select a License\n",
    "Choose a suitable license for your personal repo:\n",
    "MIT License (permissive, minimal restrictions)\n",
    "GPL License (enforces openness for modified versions)\n",
    "Creative Commons License (best for creative content)\n",
    "Apache License (A permissive license whose main conditions require preservation of copyright and license notices. )\n",
    "\n",
    "- I picked the APACHE License\n",
    "\n",
    "---\n",
    "\n",
    "## Task 2: Explain Your Choice\n",
    "Write 3-5 sentences justifying why you selected that license.\n",
    "Explain how this license benefits your project and its users.\n",
    "\n",
    "- I chose the APACHE License because I thought that people should share their coding and be able to reference our own code to improve their projects, without fully copying our code. This license will allow users to create a similar project and code without fully copying, so it will aid their learning and understanding. This would also ensure that we get credit for the code that would be referenced.\n",
    "\n",
    "---\n",
    "\n",
    "## Task 3: Add the License to Your Repository\n",
    "Create a LICENSE file in your project.\n",
    "Include the full license text with relevant details (e.g., your name and year).\n",
    "\n",
    "- Personal repository license: - https://github.com/Ellioty15/Elliot_2025/blob/main/LICENSE\n",
    "\n",
    "\n",
    "\n",
    "Extra Credit Option (0.01 extra)\n",
    "---\n",
    "## Task 4: Define Your Project\n",
    "Describe your CPT or Pilot City project in 2-3 sentences.\n",
    "List key features or goals.\n",
    "\n",
    "- Our Pilot City project is called MediPulse. It is a website that will receive input from users about body metrics and other details. We are going to use machine learning, AI, or algorithms to guide users to the Hospitals in San Diego that are the best fit for them.\n",
    "\n",
    "\n",
    "## Task 5: Add the License to Your Repository\n",
    "Create a LICENSE file in your CPT Project from trimester 2 or your Pilot City Project.\n",
    "Include the full license text with relevant details (e.g., your name and year).\n",
    "Must be a different license than the one you used for your personal Repo\n",
    "** Add links to the license page, in your blog, and turn that blog in with all the popcorn hacks to the google form. Due 4/1/25 at 3:35 PM. **\n",
    "\n",
    "\n",
    "\n",
    "- https://github.com/GavinCopley/Palomar-MediPulse/blob/main/LICENSE"
   ]
  }
 ],
 "metadata": {
  "language_info": {
   "name": "python"
  }
 },
 "nbformat": 4,
 "nbformat_minor": 2
}
