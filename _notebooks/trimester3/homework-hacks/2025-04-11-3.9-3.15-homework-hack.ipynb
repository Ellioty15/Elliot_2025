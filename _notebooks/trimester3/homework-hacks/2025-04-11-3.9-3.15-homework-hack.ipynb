{
 "cells": [
  {
   "cell_type": "markdown",
   "id": "aa1c5199",
   "metadata": {},
   "source": [
    "---\n",
    "comments: true\n",
    "layout: post\n",
    "title: 3.9-3.15 Homework Hacks\n",
    "categories: [CSP Big Idea 3.9-3.15]\n",
    "description: My answers for the Homework hacks\n",
    "---"
   ]
  },
  {
   "cell_type": "markdown",
   "id": "82271cce",
   "metadata": {},
   "source": [
    "# Homework Hack #1\n",
    "\n",
    "Objective: Randomly assign students to teams for a group project.\n",
    "\n",
    "Task:\n",
    "\n",
    "You are given a list of 15 students.\n",
    "The goal is to randomly assign each student to one of 3 teams (be creative with the names)\n",
    "Implement the random assignment:\n",
    "Randomly assign each student to a team\n",
    "Print out the list of students and their assigned teams."
   ]
  },
  {
   "cell_type": "code",
   "execution_count": 4,
   "id": "0f96c76d",
   "metadata": {},
   "outputs": [
    {
     "name": "stdout",
     "output_type": "stream",
     "text": [
      "\n",
      "code code coders:\n",
      " - Yuno Miles\n",
      " - Post Malone\n",
      " - Tyler the Creator\n",
      " - Drake\n",
      " - Lil Wayne\n",
      "\n",
      "Purple Pythons:\n",
      " - JID\n",
      " - Lil Baby\n",
      " - Kanye West\n",
      " - Kendrick Lamar\n",
      " - 21 Savage\n",
      "\n",
      "Mending Miners:\n",
      " - Lil Uzi Vert\n",
      " - A$AP Rocky\n",
      " - Playboi Carti\n",
      " - J.Cole\n",
      " - Travis Scott\n"
     ]
    }
   ],
   "source": [
    "# Popcorn Hack Number 3: Using a loops in random\n",
    "# This popcorn hack assigns an activity to each person\n",
    "import random\n",
    "groups = ['code code coders', 'Purple Pythons', 'Mending Miners']\n",
    "students = ['Yuno Miles','Playboi Carti', 'Travis Scott', 'Kanye West', 'Kendrick Lamar', 'Drake', 'J.Cole', 'JID', 'Lil Uzi Vert', 'Lil Baby', '21 Savage', 'Tyler the Creator', 'Lil Wayne', 'A$AP Rocky', 'Post Malone']\n",
    "# Randomly shuffle the list of activities to assign them randomly to the guests\n",
    "random.shuffle(students)\n",
    "\n",
    "group_assignments = {group: [] for group in groups}\n",
    "\n",
    "# Assign 5 students to each group\n",
    "for i in range(len(students)):\n",
    "    group = groups[i // 5]  # Integer division ensures 5 per group\n",
    "    group_assignments[group].append(students[i])\n",
    "\n",
    "for group, members in group_assignments.items():\n",
    "    print(f\"\\n{group}:\")\n",
    "    for member in members:\n",
    "        print(f\" - {member}\")"
   ]
  },
  {
   "cell_type": "markdown",
   "id": "213945d7",
   "metadata": {},
   "source": [
    "# Homework Hack #2\n",
    "\n"
   ]
  },
  {
   "cell_type": "code",
   "execution_count": 7,
   "id": "6d15839e",
   "metadata": {},
   "outputs": [
    {
     "name": "stdout",
     "output_type": "stream",
     "text": [
      "Monday will be cloudy!\n",
      "Tuesday will be cloudy!\n",
      "Wednesday will be windy!\n",
      "Thursday will be windy!\n",
      "Friday will be sunny!\n",
      "Saturday will be windy!\n",
      "Sunday will be cloudy!\n"
     ]
    }
   ],
   "source": [
    "import random\n",
    "\n",
    "weather = ['cloudy', 'rainy', 'sunny', 'windy', 'stormy']\n",
    "days = ['Monday', 'Tuesday', 'Wednesday', 'Thursday', 'Friday', 'Saturday', 'Sunday']\n",
    "\n",
    "for day in days:\n",
    "    forecast = random.choice(weather)\n",
    "    print(f\"{day} will be {forecast}!\")\n"
   ]
  },
  {
   "cell_type": "markdown",
   "id": "a545fc17",
   "metadata": {},
   "source": [
    "# Homework Hack #3\n",
    "Objective: Simulate a random coffee shop queue and determine how long it takes for customers to get served.\n",
    "\n",
    "Task: Simulate a coffee shop with 5 customers. Each customer has a random service time (between 1 and 5 minutes). The coffee shop serves customers in the order they arrive. Calculate and print the total time it takes for all 5 customers to be served."
   ]
  },
  {
   "cell_type": "code",
   "execution_count": 1,
   "id": "4f5068fe",
   "metadata": {},
   "outputs": [
    {
     "name": "stdout",
     "output_type": "stream",
     "text": [
      "Coffee Shop Queue Simulation:\n",
      "Bob was served in 2 minutes.\n",
      "Bobby was served in 1 minutes.\n",
      "Borb was served in 2 minutes.\n",
      "Beb was served in 1 minutes.\n",
      "Bab was served in 2 minutes.\n",
      "\n",
      "Total time to serve all customers: 8 minutes.\n"
     ]
    }
   ],
   "source": [
    "import random\n",
    "\n",
    "customers = ['Bob', 'Bobby', 'Borb', 'Beb', 'Bab']\n",
    "total_time = 0\n",
    "\n",
    "print(\"Coffee Shop Queue Simulation:\")\n",
    "for customer in customers:\n",
    "    service_time = random.randint(1, 5)\n",
    "    total_time += service_time\n",
    "    print(f\"{customer} was served in {service_time} minutes.\")\n",
    "\n",
    "print(f\"\\nTotal time to serve all customers: {total_time} minutes.\")\n"
   ]
  }
 ],
 "metadata": {
  "kernelspec": {
   "display_name": "Python 3",
   "language": "python",
   "name": "python3"
  },
  "language_info": {
   "codemirror_mode": {
    "name": "ipython",
    "version": 3
   },
   "file_extension": ".py",
   "mimetype": "text/x-python",
   "name": "python",
   "nbconvert_exporter": "python",
   "pygments_lexer": "ipython3",
   "version": "3.12.3"
  }
 },
 "nbformat": 4,
 "nbformat_minor": 5
}
