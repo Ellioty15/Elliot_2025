{
 "cells": [
  {
   "cell_type": "markdown",
   "id": "ffedeb1d",
   "metadata": {},
   "source": [
    "---\n",
    "comments: true\n",
    "layout: post\n",
    "title: Logic Gate Homework Hacks\n",
    "description: My answers for the Homework hacks\n",
    "---"
   ]
  },
  {
   "cell_type": "markdown",
   "id": "a087e167",
   "metadata": {},
   "source": [
    "# Homework Hack: Authorization System\n",
    "Task: Fill in the missing code necessary to implement a Python function that simulates a secure entry system using an AND gate."
   ]
  },
  {
   "cell_type": "code",
   "execution_count": null,
   "id": "56c56b82",
   "metadata": {},
   "outputs": [],
   "source": [
    "def secure_entry_system(keycard, pin, voice):\n",
    "    def AND(a, b, c):\n",
    "        return a & b & c  # AND logic\n",
    "\n",
    "    return AND(keycard, pin, voice)\n",
    "\n",
    "# Test cases\n",
    "print(secure_entry_system(1, 1, 1))  # Expected Output: 1 (Access Granted)\n",
    "print(secure_entry_system(1, 0, 1))  # Expected Output: 0 (Access Denied)\n",
    "print(secure_entry_system(0, 1, 1))  # Expected Output: 0 (Access Denied)\n",
    "print(secure_entry_system(1, 1, 0))  # Expected Output: 0 (Access Denied)\n"
   ]
  }
 ],
 "metadata": {
  "language_info": {
   "name": "python"
  }
 },
 "nbformat": 4,
 "nbformat_minor": 5
}
