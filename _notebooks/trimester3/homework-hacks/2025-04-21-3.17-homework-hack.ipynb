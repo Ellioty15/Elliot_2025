{
 "cells": [
  {
   "cell_type": "markdown",
   "id": "defdc78a",
   "metadata": {},
   "source": [
    "---\n",
    "comments: true\n",
    "layout: post\n",
    "title: 3.17 Homework Hacks\n",
    "categories: [CSP Big Idea 3.17]\n",
    "description: My answers for the Homework hacks\n",
    "---"
   ]
  },
  {
   "cell_type": "markdown",
   "id": "15b52686",
   "metadata": {},
   "source": [
    "Write a function that takes the following inputs:\n",
    "\n",
    "An array:\n",
    "arr = [5, 10, 15, 20, 25]\n",
    "A string representing the time complexity:\n",
    "\"constant\", \"linear\", \"quadratic\", etc.\n",
    "The function should perform operations on the array based on the given time complexity. For example:\n",
    "\n",
    "If the string is \"constant\", return the first item of the array.\n",
    "If the string is \"linear\", print all the items in the array.\n",
    "If the string is \"quadratic\", print all pairs of items in the array.\n"
   ]
  },
  {
   "cell_type": "code",
   "execution_count": 1,
   "id": "e82c4166",
   "metadata": {},
   "outputs": [
    {
     "name": "stdout",
     "output_type": "stream",
     "text": [
      "5\n",
      "5\n",
      "10\n",
      "15\n",
      "20\n",
      "25\n",
      "(5, 5)\n",
      "(5, 10)\n",
      "(5, 15)\n",
      "(5, 20)\n",
      "(5, 25)\n",
      "(10, 5)\n",
      "(10, 10)\n",
      "(10, 15)\n",
      "(10, 20)\n",
      "(10, 25)\n",
      "(15, 5)\n",
      "(15, 10)\n",
      "(15, 15)\n",
      "(15, 20)\n",
      "(15, 25)\n",
      "(20, 5)\n",
      "(20, 10)\n",
      "(20, 15)\n",
      "(20, 20)\n",
      "(20, 25)\n",
      "(25, 5)\n",
      "(25, 10)\n",
      "(25, 15)\n",
      "(25, 20)\n",
      "(25, 25)\n"
     ]
    }
   ],
   "source": [
    "def run_based_on_complexity(arr, complexity):\n",
    "    if complexity == \"constant\":\n",
    "        return arr[0]\n",
    "\n",
    "    elif complexity == \"linear\":\n",
    "        for item in arr:\n",
    "            print(item)\n",
    "\n",
    "    elif complexity == \"quadratic\":\n",
    "        for i in range(len(arr)):\n",
    "            for j in range(len(arr)):\n",
    "                print(f\"({arr[i]}, {arr[j]})\")\n",
    "\n",
    "# Example usage:\n",
    "arr = [5, 10, 15, 20, 25]\n",
    "\n",
    "print(run_based_on_complexity(arr, \"constant\"))  # Output: 5\n",
    "run_based_on_complexity(arr, \"linear\")          # Prints each item\n",
    "run_based_on_complexity(arr, \"quadratic\")       # Prints all pairs\n"
   ]
  }
 ],
 "metadata": {
  "kernelspec": {
   "display_name": "Python 3",
   "language": "python",
   "name": "python3"
  },
  "language_info": {
   "codemirror_mode": {
    "name": "ipython",
    "version": 3
   },
   "file_extension": ".py",
   "mimetype": "text/x-python",
   "name": "python",
   "nbconvert_exporter": "python",
   "pygments_lexer": "ipython3",
   "version": "3.12.3"
  }
 },
 "nbformat": 4,
 "nbformat_minor": 5
}
