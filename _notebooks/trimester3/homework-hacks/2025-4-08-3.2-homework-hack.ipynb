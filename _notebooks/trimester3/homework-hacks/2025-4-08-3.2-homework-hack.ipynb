{
 "cells": [
  {
   "cell_type": "markdown",
   "id": "2c5b5e72",
   "metadata": {},
   "source": [
    "---\n",
    "comments: true\n",
    "layout: post\n",
    "title: 3.2 Homework Hack\n",
    "categories: [CSP Big Idea 3.2 ]\n",
    "description: My homework hacks for big idea 3.2\n",
    "permalink: /3.2_homework/\n",
    "\n",
    "---"
   ]
  },
  {
   "cell_type": "markdown",
   "id": "264b4a56",
   "metadata": {},
   "source": [
    "# Homework Hack #1\n",
    "My notes from both videos\n",
    "- Python lists store data in an ordered sequence, allowing indexing, slicing, and preservation of duplicate values.\n",
    "- You can create lists using square brackets or the list() constructor\n",
    "- Lists can be modified by using methods like append(), extend(), and + for concatenation.\n",
    "- Access list elements using zero-based indexing or negative indices\n",
    "- Use slicing to grab sublists without altering the original.\n",
    "- Lists can hold integers, strings, booleans, even other lists\n",
    "- List comprehensions provide readable one-line alternatives to for loops for making lists\n",
    "- comprehensions are easier to read and better for beginners and collaboration\n",
    "- you can use if statements to filter through list and dictionaries\n",
    "- you can have nested loops with lists\n"
   ]
  },
  {
   "cell_type": "markdown",
   "id": "35fabb7a",
   "metadata": {},
   "source": [
    "# Homework Hack #2\n",
    "Homework Hack #2: Create Python code that:\n",
    "\n",
    "Initializes a list containing numbers from 1 to 30.\n",
    "Filters out and displays numbers divisible by 3 but not by 5.\n",
    "Prints both the original and filtered lists clearly.\n"
   ]
  },
  {
   "cell_type": "code",
   "execution_count": 1,
   "id": "b79ab660",
   "metadata": {},
   "outputs": [
    {
     "name": "stdout",
     "output_type": "stream",
     "text": [
      "[3, 6, 9, 12, 18, 21, 24, 27]\n"
     ]
    }
   ],
   "source": [
    "numbers = [1, 2, 3, 4, 5, 6, 7, 8, 9, 10, 11, 12, 13, 14, 15, 16, 17, 18, 19, 20, 21, 22, 23, 24, 25, 26, 27, 28, 29, 30]\n",
    "new_numbers = [num for num in numbers if num % 3 == 0 and num % 5 != 0]\n",
    "print(new_numbers)"
   ]
  },
  {
   "cell_type": "markdown",
   "id": "8fc2cac9",
   "metadata": {},
   "source": [
    "# Homework Hack #3\n",
    "Homework Hack #3 Develop a function named filter_spotify_data that:\n",
    "\n",
    "Reads data from the Spotify Global Streaming Data 2024 CSV.\n",
    "Filters and returns songs with over 10 million streams.\n",
    "Clearly display the filtered data in your program.\n"
   ]
  },
  {
   "cell_type": "code",
   "execution_count": 9,
   "id": "6db8ae08",
   "metadata": {},
   "outputs": [
    {
     "name": "stdout",
     "output_type": "stream",
     "text": [
      "First few rows of sorted data:\n",
      "           Country         Artist               Album      Genre  \\\n",
      "473          Spain  Billie Eilish   Happier Than Ever  Classical   \n",
      "294         France            BTS               Proof       Jazz   \n",
      "156        Germany            BTS               Proof      K-pop   \n",
      "22          Sweden            BTS               Proof        EDM   \n",
      "251         Sweden            BTS               Proof      Indie   \n",
      "..             ...            ...                 ...        ...   \n",
      "175         Russia        Karol G  MAÑANA SERÁ BONITO  Classical   \n",
      "216          India     Ed Sheeran   Autumn Variations  Classical   \n",
      "16   United States     Ed Sheeran   Autumn Variations       Jazz   \n",
      "308         Turkey  Ariana Grande    Eternal Sunshine       Rock   \n",
      "454    South Korea       Doja Cat             Scarlet      K-pop   \n",
      "\n",
      "     Release Year  Monthly Listeners (Millions)  Total Streams (Millions)  \\\n",
      "473          2019                         56.56                   4985.54   \n",
      "294          2023                          6.53                   4982.14   \n",
      "156          2023                         45.18                   4982.01   \n",
      "22           2023                         95.77                   4977.34   \n",
      "251          2018                         44.47                   4970.09   \n",
      "..            ...                           ...                       ...   \n",
      "175          2020                         48.01                    132.35   \n",
      "216          2021                         66.27                    127.87   \n",
      "16           2019                         59.26                     85.59   \n",
      "308          2019                          6.40                     68.89   \n",
      "454          2022                         37.34                     53.56   \n",
      "\n",
      "     Total Hours Streamed (Millions)  Avg Stream Duration (Min) Platform Type  \\\n",
      "473                         17691.17                       2.98       Premium   \n",
      "294                         14641.63                       4.19       Premium   \n",
      "156                         15300.52                       4.33       Premium   \n",
      "22                          17975.85                       3.94          Free   \n",
      "251                         20135.14                       2.97       Premium   \n",
      "..                               ...                        ...           ...   \n",
      "175                           418.55                       2.72       Premium   \n",
      "216                           455.78                       3.32          Free   \n",
      "16                            335.14                       2.62          Free   \n",
      "308                           184.30                       4.15       Premium   \n",
      "454                           202.25                       3.26          Free   \n",
      "\n",
      "     Streams Last 30 Days (Millions)  Skip Rate (%)  \n",
      "473                           155.58          13.61  \n",
      "294                            71.61          33.73  \n",
      "156                            40.84           6.29  \n",
      "22                             38.79           9.49  \n",
      "251                           172.35          24.80  \n",
      "..                               ...            ...  \n",
      "175                           117.16          32.07  \n",
      "216                           106.35          11.71  \n",
      "16                            181.18          34.53  \n",
      "308                            40.74           2.00  \n",
      "454                           176.70          25.17  \n",
      "\n",
      "[500 rows x 12 columns]\n"
     ]
    }
   ],
   "source": [
    "import pandas as pd\n",
    "\n",
    "data = pd.read_csv(\"Spotify_2024_Global_Streaming_Data.csv\")\n",
    "\n",
    "data_cleaned = data.dropna()\n",
    "\n",
    "filtered_data = data_cleaned[data_cleaned[\"Total Streams (Millions)\"] > 10]\n",
    "\n",
    "# Sort the filtered data by total streams\n",
    "data_sorted = filtered_data.sort_values(by=\"Total Streams (Millions)\", ascending=False)\n",
    "\n",
    "# Convert to list\n",
    "new_list = data_sorted[\"Total Streams (Millions)\"].tolist()\n",
    "\n",
    "# Display\n",
    "print(\"First few rows of sorted data:\")\n",
    "print(data_sorted)\n"
   ]
  }
 ],
 "metadata": {
  "kernelspec": {
   "display_name": "venv",
   "language": "python",
   "name": "python3"
  },
  "language_info": {
   "codemirror_mode": {
    "name": "ipython",
    "version": 3
   },
   "file_extension": ".py",
   "mimetype": "text/x-python",
   "name": "python",
   "nbconvert_exporter": "python",
   "pygments_lexer": "ipython3",
   "version": "3.12.3"
  }
 },
 "nbformat": 4,
 "nbformat_minor": 5
}
