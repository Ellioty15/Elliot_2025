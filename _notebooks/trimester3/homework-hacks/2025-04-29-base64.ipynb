{
 "cells": [
  {
   "cell_type": "markdown",
   "id": "531d66bc",
   "metadata": {},
   "source": [
    "---\n",
    "comments: true\n",
    "layout: post\n",
    "title: Base 64 Homework Hacks\n",
    "description: My answers for the Homework hacks\n",
    "permalink: /base64_homework/\n",
    "\n",
    "---"
   ]
  },
  {
   "cell_type": "markdown",
   "id": "78a9ffc9",
   "metadata": {},
   "source": [
    "# Homework Hack\n",
    "**In your notebook, explain the following, along with one application to YOUR work:**\n",
    "– What is a hex color code? What are some examples?\n",
    "A hex color code is a six-digit hexadecimal representation of colors using red, green, and blue values. It is used in web design and programming to precisely define colors for visual elements. Some example of hex color codes being used are styling in text, divs, anywhere color is used on a website.\n",
    "\n",
    "– What is Base64 and how is it used with images?\n",
    "Base64 is a method of encoding binary data (like image files) into a plain-text format. It is used with images to embed them directly into HTML or documents without needing separate file references.\n",
    "\n",
    "\n",
    "– Why might you use Base64 instead of a regular image file?\n",
    "Base64 is used instead of regular image files to embed images directly into code, HTML, or notebooks for portability and convenience. This is useful when sharing or saving work in a single file without broken image links.\n",
    "\n",
    "\n",
    "Then, Insert an image into your Jupyter notebook and explain how it’s stored and displayed."
   ]
  },
  {
   "cell_type": "markdown",
   "id": "f4eda5b2",
   "metadata": {},
   "source": [
    "<br>\n",
    "<img src=\"{{site.baseurl}}/images/base64.png\" alt=\"Image 1\">\n",
    "<br>\n",
    "The code uses HTML to display an image by linking to its file path on the server, using Jekyll's {{site.baseurl}} to ensure the path works correctly. This is common in static websites like those built with GitHub Pages. Unlike Base64, which embeds the image data directly into the page, this method relies on an external file. Base64 is more portable and self-contained, while file references like this keep HTML cleaner and reduce page size."
   ]
  },
  {
   "cell_type": "markdown",
   "id": "7f3604ce",
   "metadata": {},
   "source": []
  }
 ],
 "metadata": {
  "kernelspec": {
   "display_name": "venv",
   "language": "python",
   "name": "python3"
  },
  "language_info": {
   "codemirror_mode": {
    "name": "ipython",
    "version": 3
   },
   "file_extension": ".py",
   "mimetype": "text/x-python",
   "name": "python",
   "nbconvert_exporter": "python",
   "pygments_lexer": "ipython3",
   "version": "3.12.3"
  }
 },
 "nbformat": 4,
 "nbformat_minor": 5
}
