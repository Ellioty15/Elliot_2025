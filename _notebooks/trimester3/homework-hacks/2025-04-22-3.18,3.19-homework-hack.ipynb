{
 "cells": [
  {
   "cell_type": "markdown",
   "id": "5ba235e3",
   "metadata": {},
   "source": [
    "---\n",
    "comments: true\n",
    "layout: post\n",
    "title: 3.18-3.19 Homework Hacks\n",
    "categories: [CSP Big Idea 3.18-3.19]\n",
    "description: My answers for the Homework hacks\n",
    "---"
   ]
  },
  {
   "cell_type": "markdown",
   "id": "6293a157",
   "metadata": {},
   "source": [
    "# Undecideable Problems Homework:\n",
    "Question/research:\n",
    "\n",
    "Investigate and describe how modern operating systems and browsers handle infinite loops or excessively long-running scripts. What mechanisms are in place to detect and mitigate such issues? Provide real-world examples of these mechanisms in action, such as specific error messages, timeouts, or automated recovery processes.\n",
    "\n",
    "- Answer:\n",
    "A modern operating system is a process manager on windows. This allows users or the system to find and stop unresponsive program, so that if a program takes too long or enters an infinite loop, the OS marks it as not responding and allows the user to select if they want to stop it, preventing the app from freezing the system."
   ]
  },
  {
   "cell_type": "markdown",
   "id": "05b7769f",
   "metadata": {},
   "source": [
    "# Heuristics\n",
    "Explore the concept of “Social Network Analysis” and explain how graphs are used in analyzing social media platforms. Specifically, focus on:\n",
    "\n",
    "How are users (nodes) and relationships (edges) represented in social networks?\n",
    "\n",
    "Provide one example of a real-world social media platform where graph theory plays a crucial role.\n",
    "\n",
    "- Answer:\n",
    "\n",
    "Instagram is an example of graph theory in use. Nodes are the accounts that are used. Edges are the connections between the accounts, like follows.\n",
    "\n",
    "Graph Analysis Applications:\n",
    "Suggesting new people to follow using mutual connections and shared interests.\n",
    "Organizing your feed by ranking posts through interaction frequency (who you engage with most).\n",
    "Identifying influencers using centrality measures — accounts with a large number of inbound follows.\n",
    "Detecting communities or niche groups using clustering algorithms."
   ]
  }
 ],
 "metadata": {
  "language_info": {
   "name": "python"
  }
 },
 "nbformat": 4,
 "nbformat_minor": 5
}
