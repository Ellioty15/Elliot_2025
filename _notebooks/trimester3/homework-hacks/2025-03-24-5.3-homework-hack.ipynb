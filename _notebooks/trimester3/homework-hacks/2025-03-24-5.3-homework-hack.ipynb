{
 "cells": [
  {
   "cell_type": "markdown",
   "metadata": {},
   "source": [
    "---\n",
    "comments: true\n",
    "layout: post\n",
    "title: 5.3 Homework Hack\n",
    "categories: [CSP Big Idea 5.3 ]\n",
    "description: My homework hacks for big idea 5.3 \n",
    "permalink: /5.3homework/\n",
    "\n",
    "---"
   ]
  },
  {
   "cell_type": "markdown",
   "metadata": {},
   "source": [
    "# Homework\n",
    "1. Choose a digital tool, app, or website you use regularly. It could be a social media platform, a shopping site, or a streaming service.\n",
    "\n",
    "#### Spotify is an app with bias.\n",
    "\n",
    "---\n",
    "\n",
    "2. Identify Potential Bias: Are there any patterns in the recommendations or interactions that might suggest bias? Does the platform cater well to different user groups (e.g., age, gender, language, accessibility)?\n",
    "\n",
    "#### A bias that I found was that spotify constantly recommends the same songs based on artists or songs that I've listend to.\n",
    "\n",
    "---\n",
    "\n",
    "3. Analyze the Cause: What might be causing this bias? Consider data collection, algorithm design, or lack of diverse testing.\n",
    "\n",
    "#### I think the cause of this bias is that the algorithm has been coded to recommend\n",
    "\n",
    "---\n",
    "\n",
    "4. Propose a Solution: Suggest one way the developers could reduce bias and make the platform more inclusive.\n",
    "\n",
    "### One way that developers can reduce bias is to provide different recomendations each time so that users can listen to different artists, genres, and songs."
   ]
  }
 ],
 "metadata": {
  "language_info": {
   "name": "python"
  }
 },
 "nbformat": 4,
 "nbformat_minor": 2
}
