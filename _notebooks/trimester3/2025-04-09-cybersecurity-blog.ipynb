{
 "cells": [
  {
   "cell_type": "markdown",
   "id": "6a474cb0",
   "metadata": {},
   "source": [
    "---\n",
    "comments: true\n",
    "layout: post\n",
    "title: Cybersecurity Blog\n",
    "description: My homework hacks for big idea 3.2\n",
    "---"
   ]
  },
  {
   "cell_type": "markdown",
   "id": "bde5cb2f",
   "metadata": {},
   "source": [
    "Questions:\n",
    "\n",
    "Real world cybersecurity case that you worked on or studied that had a significatn impact\n",
    "Victor Nzeata\n",
    "Tricia Mercer\n",
    "David Tomasz\n",
    "\n",
    "Biggest cybersecurity threats today, how to combat\n",
    "- ransomware, billions of dollars encrypt an entire website \n"
   ]
  }
 ],
 "metadata": {
  "language_info": {
   "name": "python"
  }
 },
 "nbformat": 4,
 "nbformat_minor": 5
}
