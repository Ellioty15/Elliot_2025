{
 "cells": [
  {
   "cell_type": "markdown",
   "id": "6a474cb0",
   "metadata": {},
   "source": [
    "---\n",
    "comments: true\n",
    "layout: post\n",
    "title: Cybersecurity Blog\n",
    "description: My reflection from the cybersecurity lesson\n",
    "\n",
    "---\n"
   ]
  },
  {
   "cell_type": "markdown",
   "id": "bde5cb2f",
   "metadata": {},
   "source": [
    "# Notes from the Cybersecurity Presentation\n",
    "\n",
    "---\n",
    "\n",
    "## Cybersecurity Speaker Highlights\n",
    "\n",
    "### David Tomasz\n",
    "\n",
    "**Big Threats:**\n",
    "- Ransomware attacks  \n",
    "- Foreign IP theft (e.g., China)\n",
    "\n",
    "**Advice:**\n",
    "- Develop soft skills (leadership, organization)  \n",
    "- Build your professional network\n",
    "\n",
    "**Future Trends:**\n",
    "- The traditional 9-5 mindset is becoming outdated  \n",
    "- Learn from talented peers to grow\n",
    "\n",
    "---\n",
    "\n",
    "### Victor Nzeata (Army Reserves, Cybersecurity Academy Graduate)\n",
    "\n",
    "**Notable Cases:**\n",
    "- Prevented military data leaks  \n",
    "- Investigated a senior executive leaking company secrets\n",
    "\n",
    "**Career Tips:**\n",
    "- \"Be nice, be passionate, do it well\"  \n",
    "- Get an IT degree and specialize in a field  \n",
    "- AI security is a rapidly growing area\n",
    "\n",
    "**Big Concerns:**\n",
    "- Weaponized AI  \n",
    "- Zero-day vulnerabilities\n",
    "    - Zero-day vulnerabilities are new vulnerabilities that are unheard of, so they can be exploited.\n",
    "\n",
    "---\n",
    "\n",
    "### Tricia Mercer (Cybersecurity Professor)\n",
    "\n",
    "**Key Experiences:**\n",
    "- Stopped proprietary data theft  \n",
    "- Trained soldiers in data security\n",
    "\n",
    "**Why Cybersecurity?**\n",
    "- Inspired by *The Cuckoo’s Egg*  \n",
    "- Enjoys catching \"bad guys\"\n",
    "\n",
    "**Must-Have Skills:**\n",
    "- Learn computer science fundamentals  \n",
    "- Be able to speak the “business language”  \n",
    "- Know how to defend against phishing attacks\n",
    "\n",
    "---\n",
    "\n",
    "## Common Themes\n",
    "\n",
    "- Cybersecurity is 50% technical skills, 50% people skills  \n",
    "- Specialization pays off (e.g., AI, healthcare)  \n",
    "- Entry paths are diverse (degrees, certifications, military)  \n",
    "- Threats evolve daily — staying current is crucial\n",
    "\n",
    "---\n",
    "\n",
    "## Key Takeaways\n",
    "\n",
    "- Communication is critical — explain technical topics to non-technical people  \n",
    "- Networking opens doors — use your connections  \n",
    "- Passion matters just as much as technical ability  \n",
    "- Continuous learning is necessary to keep up in this field\n",
    "\n",
    "## Talking with Victor Nzeata\n",
    "- I asked about how to get internships, and when I should apply for them\n",
    "- Mr. Nzeata recommended that I get certifications in cybersecurity, and then apply to a large company that is recognizable, so that other companies will be more likely to recognize the company and accept me after the internship.\n",
    "\n",
    "---\n",
    "\n",
    "## Reflection\n",
    "I have been considering cybersecurity as a future career for myself, and I have been working on the google CyberSecurity course. After hearing the experiences of the professionals, I am now more encouraged to go into cybersecurity, and I know that in order to succeed, I need to be able to communicate with other individuals, specialize in a certain field, and stay up to date with the newest technologies. Through this presentation I have also learned that there isn't just one way into cybersecurity, and that I will have opportunities as long as I have some technological background. \n",
    "---\n",
    "\n",
    "<br>\n",
    "<img src=\"{{site.baseurl}}/images/cybersecuritypresentation.JPG\" alt=\"Image 1\">\n",
    "<br>"
   ]
  },
  {
   "cell_type": "code",
   "execution_count": null,
   "id": "66576c7c",
   "metadata": {
    "vscode": {
     "languageId": "plaintext"
    }
   },
   "outputs": [],
   "source": []
  },
  {
   "cell_type": "code",
   "execution_count": null,
   "id": "1d01f919",
   "metadata": {
    "vscode": {
     "languageId": "plaintext"
    }
   },
   "outputs": [],
   "source": []
  }
 ],
 "metadata": {
  "language_info": {
   "name": "python"
  }
 },
 "nbformat": 4,
 "nbformat_minor": 5
}
