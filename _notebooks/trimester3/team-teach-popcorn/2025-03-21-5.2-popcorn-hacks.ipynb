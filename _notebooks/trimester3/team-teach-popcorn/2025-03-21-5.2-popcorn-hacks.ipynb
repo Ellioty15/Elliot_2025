{
 "cells": [
  {
   "cell_type": "markdown",
   "metadata": {},
   "source": [
    "---\n",
    "comments: true\n",
    "layout: post\n",
    "title: 5.2 Popcorn Hacks\n",
    "categories: [CSP Big Idea 5.2 ]\n",
    "description: My popcorn hacks for Big Idea 5.2\n",
    "---"
   ]
  },
  {
   "cell_type": "markdown",
   "metadata": {},
   "source": [
    "# Popcorn Hack 1\n",
    "Which of the following actions are likely to be helpful in reducing the digital divide? Select two answers.\n",
    "\n",
    "\n",
    "**Options**\n",
    "- A) Designing new technologies intended only for advanced users\n",
    "- B) Designing new technologies to be accessible to individuals with different physical abilities\n",
    "- C) Implementing voernment regulations restricting citizens' access to Web content\n",
    "- D) Having world governments support the construction of network infrastructure\n",
    "\n",
    "ANSWER: B, D\n",
    "---\n",
    "# Popcorn Hack 2\n",
    "\n",
    "How would you attempt to fix the digital divide or prevent it from being as prevalent in our community? What are some things that are already being done? What are some things we can add? Explain.\n",
    "**My Answer**\n",
    "\n",
    "To fix the digital divide in our community, I would support educational action that allows technology to be more accessible to others. Some things that are already being done is providing chromebooks and internet. However, this doesn't apply to all schools, so I would like to see school districts helping each other and funding the adaptation of technology into schools that do not have that oppurtunity.\n",
    "---\n"
   ]
  }
 ],
 "metadata": {
  "language_info": {
   "name": "python"
  }
 },
 "nbformat": 4,
 "nbformat_minor": 2
}
