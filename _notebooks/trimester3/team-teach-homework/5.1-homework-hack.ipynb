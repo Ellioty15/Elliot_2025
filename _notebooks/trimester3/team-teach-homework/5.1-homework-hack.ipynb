{
 "cells": [
  {
   "cell_type": "markdown",
   "metadata": {},
   "source": [
    "---\n",
    "comments: true\n",
    "layout: post\n",
    "title: 5.1 Homework Hacks\n",
    "categories: [CSP Big Idea 5.1]\n",
    "description: My answers for the Homework hacks\n",
    "---"
   ]
  },
  {
   "cell_type": "markdown",
   "metadata": {},
   "source": [
    "# Homework Hack #1: Rethinking AI for New Uses\n",
    "## Task: \n",
    "- AI is often used in new ways that weren’t planned. Your job is to think of a new way to use an AI invention.\n",
    "## My Answer: \n",
    "Chatbots\n",
    "    - Original Use: The Chatbot would reply to user input in manners similar to humans\n",
    "    - Chatbots can be used differently to moderate conversations. For example, an AI in a discord server would moderate conversations, ensuring that they do not break the server rules. \n",
    "    - Benefits of this chatbot is that it would rid the need of moderators that check conversations. It would also ensure a safer space for users, especially if it is able to react and interact with other messages to delete inappropriate messages.\n",
    "    - Risks would be that when hacked, this chatbot would ruin the server. It could also respond to messages unnecessarily, and start deleting random messages without context.\n",
    "------------------------------------\n",
    "\n",
    "# Homework Hack #2: Ethical AI Coding Challenge\n",
    "## Task: \n",
    "- AI can cause problems if not designed well. Your job is to find a problem AI has caused and think of ways to fix it.\n",
    "\n",
    "## My Answer:\n",
    "Problem: overdepending on AI\n",
    "    - Being able to access AI so easily means that people may use AI all the time to do their work for themselves, and people will lose track of how to do work by themselves or will forget how to think for themselves, meaning that when AI can't be used, people who are overdependant will struggle to function together.\n",
    "    - Two policies that can reduce these risks are: \n",
    "        - Have AI reply to questions that are asked very specifically, which means that people who ask questions will be knowledgable and have done the research to ask the questions.\n",
    "        - Another policy that should be implemented is preventing AI from being able to give responses that fully answers whole homework assignments. Many students use AI to fill out their homework, instead of using it to learn and help with smaller sections.\n",
    "## Write a Short Reflection (3-5 sentences) – Why is ethical AI development important?\n",
    "Ethical AI development is important because the way that AI is developed will determine how the world works. As AI technology is advanced, the benefits and risks should both be considered. No matter how large the benefits may be, if the benefits are temporary or if there is a risk that will lead to a decline in human health(physical, mental) or impacts the environment in some way, then it is important that the AI be revised and further researched to make benefits as safe for users.\n",
    "---------------------------------\n",
    "\n",
    "# Homework Hack #3: AI & Unintended Consequences Research Task\n",
    "Task: Many AI systems have unexpected effects on society. Your goal is to find and analyze a real-world AI example that led to unintended consequences.\n",
    "\n",
    "[AI-related news story researched](https://www.corralldesign.com/writing/ai-harm-hypocrisy){:target=\"_blank\"}\n",
    "## Summary: \n",
    "- AI can be used to create art by simply inputting a prompt. This has caused problems such as:\n",
    "    - Artists' works are being duplicated in similar manners by AI. This causes copyright issues. \n",
    "    -   Similarly, it is said that art is becoming less creative, and people are being encouraged to think similarly to how computers think.\n",
    "- Copyright issues can be hard to prevent as art can be created similarly, but one way to avoid it would be to make it impossible for AI to reference already existing works and creating another piece that is similar. \n",
    "- The issue of simply inputting a prompt to receive an illustration is less of an issue that governments or companies can solve, but it has been an ethical dillema by the art community. Since the line where something is considered or not considered art is not clearly defined, it is up to the art community to decide whether AI should be used to create \"art\".\n",
    "\n",
    "### Problems that were not mentioned in this article: \n",
    "- There are cases of people making AI generated images of real people and making it seem like they did things that they didn't in real life. This causes insecurity in people and can lead to depression, anxiety, and even suicide.\n",
    "\n",
    "## Preventing\n",
    "To solve these general problems, it is important that companies prevent people from creating images replicating people or existing arts. It is also highly encouraged that companies that provide AI art services collaborate in tandem with users and artists, to make sure that they are meeting the standards of the demographic that they are providing for. \n"
   ]
  }
 ],
 "metadata": {
  "language_info": {
   "name": "python"
  }
 },
 "nbformat": 4,
 "nbformat_minor": 2
}
