{
 "cells": [
  {
   "cell_type": "markdown",
   "metadata": {},
   "source": [
    "---\n",
    "comments: true\n",
    "layout: post\n",
    "title: Data | Binary Logic\n",
    "categories: [CSP Big Idea 5.1]\n",
    "description: \n",
    "---"
   ]
  },
  {
   "cell_type": "markdown",
   "metadata": {},
   "source": [
    "### popcorn hack 1\n",
    "How do technological innovations impact society in both positive and negative ways? provide an example\n",
    "\n",
    "### Answer\n",
    "technological innovations impact society positively because they allow many different processes to run more efficiently, precisely, and effectively. For example, the use of robot surgeons with computing allows more precise operations in some cases. A negative of computing is psychological stress that may be induced by cyberbullying.\n",
    "\n",
    "### Popcorn Hack 2\n",
    "What is the meaning of negative effects of technology and how can we use responsible programming to avoid and reduce these unintended impacts?\n",
    "\n",
    "### Answer\n",
    "Negative effects of technology is anything in technology that will make things worse. By using responsible programming, we can make sure that people will be able to use technology as tools instead of fully relying on it, and we can make sure that there will not be any side effects.\n",
    "\n",
    "### Popcorn Hack 3\n",
    "Wy is it important to understand the unintended consequences of technology, especially dopamine-driven technology?\n",
    "\n",
    "### Answer\n",
    "Without understanding unintended consequences of technology, users may not realize that they are getting caught up in the Dopamine feedback loop. If users are to be in this cycle long term, there can be consequences like depression and anxiety."
   ]
  }
 ],
 "metadata": {
  "language_info": {
   "name": "python"
  }
 },
 "nbformat": 4,
 "nbformat_minor": 2
}
