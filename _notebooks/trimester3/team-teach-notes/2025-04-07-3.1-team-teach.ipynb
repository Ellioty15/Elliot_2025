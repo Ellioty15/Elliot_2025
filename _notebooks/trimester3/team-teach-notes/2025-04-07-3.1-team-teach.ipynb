{
 "cells": [
  {
   "cell_type": "markdown",
   "metadata": {},
   "source": [
    "---\n",
    "comments: true\n",
    "layout: post\n",
    "title: 3.11 Team Teach Notes\n",
    "categories: [CSP Big Idea 3.11 ]\n",
    "description: My notes for big idea 3.11 team teach\n",
    "---"
   ]
  },
  {
   "cell_type": "markdown",
   "metadata": {},
   "source": [
    "# Binary Search\n",
    "- divide and conquer algorithm that finds a target value in a sorted list\n",
    "\n",
    " How it works: \n",
    "- sorts the list first\n",
    "- splits the area that needs to be searched in half each time, eliminates the half that the target value is not in\n",
    "\n",
    "benefits: cuts time it takes to search an array, makes it much faster\n",
    "\n",
    "# Python implementation\n"
   ]
  },
  {
   "cell_type": "markdown",
   "metadata": {},
   "source": [
    "<code>\n",
    "def binary_search(arr, target):\n",
    "    low, high = 0, len(arr) - 1\n",
    "    \n",
    "    while low <= high:\n",
    "        mid = (low + high) // 2  # Find middle index\n",
    "        \n",
    "        if arr[mid] == target:\n",
    "            return mid  # Target found\n",
    "        elif arr[mid] < target:\n",
    "            low = mid + 1  # Search right half\n",
    "        else:\n",
    "            high = mid - 1  # Search left half\n",
    "    \n",
    "    return -1  # Target not found\n",
    "</code>\n",
    "# Example usage:\n",
    "\n",
    "<code>\n",
    "numbers = [1, 3, 5, 7, 9, 11, 13]\n",
    "print(binary_search(numbers, 7))  # Output: 3\n",
    "</code>"
   ]
  },
  {
   "cell_type": "markdown",
   "metadata": {},
   "source": [
    "cases to consider\n",
    "empty lists returns -1\n",
    "one element in a list only works if the target matches\n",
    "if the targets are not in the list then it returns -1"
   ]
  },
  {
   "cell_type": "markdown",
   "metadata": {},
   "source": [
    "# Big O Notation\n",
    "- describes the worst-case performance of an algorithm of input size n\n",
    "\n",
    "# Practical Applications\n",
    "- Database and indexing, searching in sorted records\n",
    "- AI pathfinding, finding best moves or decisions\n",
    "- Search Algorithms in Libraries\n",
    "\n",
    "# Binary Search with Strings\n",
    "- strings must be sorted alphabetically and capital letters should come before lowercase\n",
    "\n"
   ]
  }
 ],
 "metadata": {
  "language_info": {
   "name": "python"
  }
 },
 "nbformat": 4,
 "nbformat_minor": 2
}
