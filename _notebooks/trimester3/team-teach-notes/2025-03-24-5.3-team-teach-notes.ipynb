{
 "cells": [
  {
   "cell_type": "markdown",
   "metadata": {},
   "source": [
    "---\n",
    "comments: true\n",
    "layout: post\n",
    "title: 5.3 Team Teach Notes\n",
    "categories: [CSP Big Idea 5.3 ]\n",
    "description: My notes for big idea 5.2 team teach\n",
    "---"
   ]
  },
  {
   "cell_type": "markdown",
   "metadata": {},
   "source": [
    "# Computer Bias\n",
    "Unfair preferences built into a computer system, result of how people design, test, or use computing systems\n",
    "\n",
    "- Computer Bias is developed through **Data Issues**, **Design Choices**, and **Testing Gaps**\n",
    "\n",
    "---\n",
    "\n",
    "# Everyday Examples of Bias\n",
    "- 1. Netflix Recommendations\n",
    "    - The same genre will be suggested and this will keep the user in the same genre, preventing exposure to other genres even if they will like it\n",
    "- 2. Virtual Assistants with Female Voices\n",
    "    - Subtly reinforces stereotypes that women are \"helpers\" or \"assistants\"\n",
    "    - can exclude people who prefer a different voice or feel more comfortable with other default options\n",
    "- 3. Social Media Age Gaps\n",
    "    - Designing of social media can prioritize certain demographics over others, especially in age groups\n",
    "\n",
    "---\n",
    "\n",
    "# The HP Camera Incident\n",
    "HP laptop camera couldn't reliably track faces of people with darker skin tones\n",
    "\n",
    "- 1. It wasn't intentional, but it happened because of limited tracking data\n",
    "- 2. It is harmful, it excludes certain demographics and describes how technology wasn't made for them\n",
    "- 3. Should be fixed, prevent \n",
    "\n",
    "# Avoiding Bias in Tech\n",
    "- 1. Expand data, gather many different types of samples and make algorithms that recommend broader varieties\n",
    "- 2. Encourage Diverse teams, people with more perspectives will prevent computer bias further\n",
    "- 3. Constant Testing\n",
    "- 4. Document Assumptions, and be transparent about how algorithm makes decisions\n",
    "\n",
    "# Why Bias matters\n",
    "\n"
   ]
  }
 ],
 "metadata": {
  "language_info": {
   "name": "python"
  }
 },
 "nbformat": 4,
 "nbformat_minor": 2
}
