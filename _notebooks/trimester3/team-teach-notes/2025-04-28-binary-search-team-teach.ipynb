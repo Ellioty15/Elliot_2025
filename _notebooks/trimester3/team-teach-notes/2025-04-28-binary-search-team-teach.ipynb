{
 "cells": [
  {
   "cell_type": "markdown",
   "id": "6d5c985c",
   "metadata": {},
   "source": [
    "---\n",
    "comments: true\n",
    "layout: post\n",
    "title: Binary Search Team Teach Notes\n",
    "description: My notes for big idea Binary Search team teach\n",
    "---"
   ]
  },
  {
   "cell_type": "markdown",
   "id": "87255eac",
   "metadata": {},
   "source": []
  }
 ],
 "metadata": {
  "language_info": {
   "name": "python"
  }
 },
 "nbformat": 4,
 "nbformat_minor": 5
}
