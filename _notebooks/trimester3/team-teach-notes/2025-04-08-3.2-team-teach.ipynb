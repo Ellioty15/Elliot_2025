{
 "cells": [
  {
   "cell_type": "markdown",
   "id": "c9d830f4",
   "metadata": {},
   "source": [
    "---\n",
    "comments: true\n",
    "layout: post\n",
    "title: 3.2 Team Teach Notes\n",
    "categories: [CSP Big Idea 3.2 ]\n",
    "description: My notes for big idea 3.2 team teach\n",
    "---"
   ]
  },
  {
   "cell_type": "markdown",
   "id": "904fae17",
   "metadata": {},
   "source": [
    "## Introduction to Lists\n",
    "Python lists are ordered, mutable collections that can hold multiple data types.\n",
    "\n",
    "The first element in a list is an idex of 0. \n",
    "The last element is list length -1.\n",
    "## modifying lists\n",
    "<code>colors[1] = \"purple\"    # Change element</code>\n",
    "\n",
    "<code>colors.append(\"orange\") # Add element</code>\n",
    "\n",
    "<code>colors.remove(\"red\")    # Remove element</code>\n",
    "\n",
    "\n",
    "## Filter Algorithms\n",
    "<code>numbers = [11, 14, 18, 23, 29, 32, 40]</code>\n",
    "<code>evens = [num for num in numbers if num % 2 == 0]</code>\n",
    "<code># Output: [14, 18, 32, 40]</code>"
   ]
  }
 ],
 "metadata": {
  "language_info": {
   "name": "python"
  }
 },
 "nbformat": 4,
 "nbformat_minor": 5
}
