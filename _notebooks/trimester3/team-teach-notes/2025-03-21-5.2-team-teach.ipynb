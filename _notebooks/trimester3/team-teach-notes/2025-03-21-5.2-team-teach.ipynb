{
 "cells": [
  {
   "cell_type": "markdown",
   "metadata": {},
   "source": [
    "---\n",
    "comments: true\n",
    "layout: post\n",
    "title: 5.2 team teach notes\n",
    "categories: [CSP Big Idea 5.2 ]\n",
    "description: My notes for big idea 5.2 team teach\n",
    "---"
   ]
  },
  {
   "cell_type": "markdown",
   "metadata": {},
   "source": [
    "# Digital Divide\n",
    "Some people can access the internet better than others, which has many different causes.\n",
    "\n",
    "## Economic Disparities\n",
    "- Cost of Technology: Low-income individuals cannot afford computers, smartphones, or internet services\n",
    "- Limited access to education and job oppurtunities\n",
    "\n",
    "## Educational Disparities\n",
    "- Well funded schools are likely to have better technologies and stem courses\n",
    "- Wealthier students are more likely to have access to online courses and tutoring\n",
    "\n",
    "## Geographic Disparities\n",
    "- Rural-Urban Divide: Urban areas have better infrastructure for functioning networks\n",
    "\n",
    "# Impacts of the Digital Divide\n",
    "- Affects access to education, jobs, healthcare\n",
    "- Worsens existing social and economic inequalities\n",
    "- Slows down technological innovation\n",
    "\n",
    "# The Digital Divide in San Diego\n",
    "- 40% of households lack a wireline broadband subscription in San Ysidro\n",
    "- Many in southern and eastern san diego do not have internet\n",
    "\n",
    "## How to get involved\n",
    "- Computer Refurbisher at HandsOn San Diego\n",
    "- Cleaning computers and connecting them to people will bridge the digital divide\n",
    "\n"
   ]
  }
 ],
 "metadata": {
  "language_info": {
   "name": "python"
  }
 },
 "nbformat": 4,
 "nbformat_minor": 2
}
