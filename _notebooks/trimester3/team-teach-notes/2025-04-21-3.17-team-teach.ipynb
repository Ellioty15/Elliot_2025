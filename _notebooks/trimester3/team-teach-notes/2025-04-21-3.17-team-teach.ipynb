{
 "cells": [
  {
   "cell_type": "markdown",
   "id": "db6ba2c5",
   "metadata": {},
   "source": [
    "---\n",
    "comments: true\n",
    "layout: post\n",
    "title: 3.17 Team Teach Notes\n",
    "categories: [CSP Big Idea 3.17 ]\n",
    "description: My notes for big idea 3.17 team teach\n",
    "permalink: /3.17_teamteach/\n",
    "---"
   ]
  },
  {
   "cell_type": "markdown",
   "id": "797343f2",
   "metadata": {},
   "source": [
    "Big O notation is used to describe the efficiency of algorithms in terms of time complexity and space complexity. It helps us understand how an algorithm scales as the input size increases.\n",
    "\n",
    "| Notation   | Complexity Class    | Description                                                         |\n",
    "|------------|----------------------|---------------------------------------------------------------------|\n",
    "| O(1)       | Constant Time         | Execution time is the same regardless of input size.               |\n",
    "| O(log n)   | Logarithmic Time      | Execution time increases logarithmically with input size.          |\n",
    "| O(n)       | Linear Time           | Execution time grows proportionally to input size.                 |\n",
    "| O(n log n) | Linearithmic Time     | Common in efficient sorting algorithms like Merge Sort and Quick Sort. |\n",
    "| O(n²)      | Quadratic Time        | Execution time grows quadratically with input size.                |\n",
    "| O(2ⁿ)      | Exponential Time      | Execution time doubles with each additional element.               |\n",
    "| O(n!)      | Factorial Time        | Execution time grows factorially, very inefficient for large inputs. |\n"
   ]
  }
 ],
 "metadata": {
  "language_info": {
   "name": "python"
  }
 },
 "nbformat": 4,
 "nbformat_minor": 5
}
