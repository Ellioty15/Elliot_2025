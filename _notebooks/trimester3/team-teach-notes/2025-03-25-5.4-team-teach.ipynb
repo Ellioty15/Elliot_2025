{
 "cells": [
  {
   "cell_type": "markdown",
   "metadata": {},
   "source": [
    "---\n",
    "comments: true\n",
    "layout: post\n",
    "title: 5.4 Team Teach Notes\n",
    "categories: [CSP Big Idea 5.4 ]\n",
    "description: My notes for big idea 5.4 team teach\n",
    "---"
   ]
  },
  {
   "cell_type": "markdown",
   "metadata": {},
   "source": [
    "# Crowdsourcing\n",
    "Mango intro: 10/10\n",
    "\n",
    "Data can be gathered by crowds to improve\n",
    "\n",
    "What is crowdsourcing?\n",
    "Crowdsourcing is a method of gathering contributions from a large group of people typically over the internet to solve problems, generate data, complete complex tasks while relying on many participants\n",
    "\n",
    "Expands access to information and collaboration\n",
    "\n",
    "## Types of crowdsourcing\n",
    "\n",
    "- ***Wisdom of the Crowd***: Collective group makes a decision \n",
    "- ***Crowd Creation***: Company asks consumers to make new ideas\n",
    "- ***Crowd Voting***: Asking consumers to vote on different products or flavors etc.\n",
    "- ***Crowdfunding***: People donate to a company or a patient\n",
    "\n",
    "\n",
    "\n",
    "# Popcorn Hack\n",
    "\n",
    "Find examples of crowdsourcing and explain why it is crowdsourcing\n",
    "\n",
    "App ratings are an example of crowdsourcing. Many apps ask users to rate their apps. This is an example of crowdsourcing because apps are receiving input from many different people to find problems with their apps. \n",
    "\n",
    "# Homework Hack\n",
    "\n",
    "Create a crowdsourced Spotify playlist to conduct a crowdsourcing experiment\n",
    "\n",
    "My two songs that are in the pop genre: \n",
    "<iframe style=\"border-radius:12px\" src=\"https://open.spotify.com/embed/track/35jMnDPXP8NQmw6HPkwnut?utm_source=generator\" width=\"100%\" height=\"352\" frameBorder=\"0\" allowfullscreen=\"\" allow=\"autoplay; clipboard-write; encrypted-media; fullscreen; picture-in-picture\" loading=\"lazy\"></iframe>\n",
    "\n",
    "<iframe style=\"border-radius:12px\" src=\"https://open.spotify.com/embed/track/51ZQ1vr10ffzbwIjDCwqm4?utm_source=generator\" width=\"100%\" height=\"352\" frameBorder=\"0\" allowfullscreen=\"\" allow=\"autoplay; clipboard-write; encrypted-media; fullscreen; picture-in-picture\" loading=\"lazy\"></iframe>\n",
    "\n",
    "- is crowdsourcing good or bad for this playlist? Whether crowdsourcing is good or bad for this playlist will be determined by the listeners. From my perspective, having a wide variety of people in a genre with such a large variety of artists and subgenres, crowdsourcing will not lead to positive results, as in the playlist will not fit everyone's preference.\n",
    "\n"
   ]
  }
 ],
 "metadata": {
  "language_info": {
   "name": "python"
  }
 },
 "nbformat": 4,
 "nbformat_minor": 2
}
