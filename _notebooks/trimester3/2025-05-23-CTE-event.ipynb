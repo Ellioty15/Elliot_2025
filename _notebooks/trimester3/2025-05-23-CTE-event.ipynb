{
 "cells": [
  {
   "cell_type": "markdown",
   "id": "d57bc3d0",
   "metadata": {},
   "source": [
    "---\n",
    "comments: true\n",
    "layout: post\n",
    "title: My visit to the CTE event\n",
    "description: My experience at the CTE event\n",
    "---"
   ]
  },
  {
   "cell_type": "markdown",
   "id": "dbe28723",
   "metadata": {},
   "source": [
    "Yesterday I went to the CTE event and visited other students.\n",
    "I talked to Aden Lau and he showed me his game where I could interact with different NPCs and learn about banking, crypto mining, and gambling.\n",
    "\n",
    "I also tried to scan into the bathroom pass, but unfortunately the internet was bugging and I couldn't try the feature.\n",
    "\n",
    "I also met with rykendrick, who was a teacher for the culinary class at poway high school. It taught me that CTE is not limited to just technology, but other classes where people can learn to cook or grow gardens."
   ]
  },
  {
   "cell_type": "markdown",
   "id": "edec3bdb",
   "metadata": {},
   "source": [
    "proof that I was there: \n",
    "![Picture with Aidan Lau]({{site.baseurl}}/images/withaidan.JPG)\n",
    "![Picture with Rykendrick]({{site.baseurl}}/images/rykendrick.JPG)"
   ]
  }
 ],
 "metadata": {
  "language_info": {
   "name": "python"
  }
 },
 "nbformat": 4,
 "nbformat_minor": 5
}
