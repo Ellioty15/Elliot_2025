{
 "cells": [
  {
   "cell_type": "markdown",
   "id": "10c9dedc",
   "metadata": {},
   "source": [
    "---\n",
    "comments: true\n",
    "layout: post\n",
    "title: 3.18 Popcorn Hacks\n",
    "categories: [CSP Big Idea 3.18]\n",
    "description: My answers for the popcorn hacks\n",
    "---"
   ]
  },
  {
   "cell_type": "markdown",
   "id": "3a2fa3e0",
   "metadata": {},
   "source": [
    "# Popcorn Hack #1\n",
    "\n",
    "An algorithm can be used to solve an undecidable problem. (True/False)\n",
    "\n",
    "False\n",
    "\n",
    "# Popcorn Hack #2\n",
    "If a programmer encounters an undecidable problem, they can just use an alogirhtm that works most of the time. (True/False)\n",
    "\n",
    "True\n",
    "\n",
    "# Popcorn Hack #3\n",
    "\n",
    "Popcorn Hack 3\n",
    "Which of the following options is not an example of an undecidable problem?\n",
    "\n",
    "A. Halting Problem\n",
    "B. The Collatz Conjecture\n",
    "C. Rice’s Theorem\n",
    "D. Bubble sorting\n",
    "\n",
    "ANSWER: D\n",
    "---\n",
    "\n",
    "# Popcorn Hack #1\n",
    "True or False: In a directed graph, an edge from node A to node B implies that there is always a corresponding edge from node B to node A.\n",
    "\n",
    "False, it doesn't always mean that it goes both ways\n",
    "\n",
    "# Popcorn Hack #2\n",
    "True or False: Heuristics always provide faster solutions than exact algorithms, but they may sacrifice accuracy for speed.\n",
    "\n",
    "True, they prioritize speed over accuracy.\n",
    "\n",
    "# Popcorn Hack #3\n",
    "True or False: While heuristic algorithms like the Nearest Neighbor algorithm can significantly reduce the computational time for TSP, they can never guarantee an optimal solution, and the gap between the heuristic solution and the optimal solution can grow exponentially as the number of cities increases.\n",
    "\n",
    "True\n"
   ]
  }
 ],
 "metadata": {
  "language_info": {
   "name": "python"
  }
 },
 "nbformat": 4,
 "nbformat_minor": 5
}
