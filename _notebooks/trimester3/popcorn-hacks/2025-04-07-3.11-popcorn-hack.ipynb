{
 "cells": [
  {
   "cell_type": "markdown",
   "metadata": {},
   "source": [
    "---\n",
    "comments: true\n",
    "layout: post\n",
    "title: 3.11 Popcorn Hacks\n",
    "categories: [CSP Big Idea 3.11]\n",
    "description: My answers for the popcorn hacks\n",
    "---"
   ]
  },
  {
   "cell_type": "markdown",
   "metadata": {},
   "source": [
    "# Pocorn Hack 1 (from CB MC 2020)\n",
    "- The procedure <code>BinarySearch(numList, target)</code> correctly implements a binary search algorithm on the list of numbers <code>numList</code>. The procedure returns an index here <code>target</code> occurs in numList, or <code>-1</code> if <code>target</code> does not occur in <code>numList</code>. Which of the following conditions must be met in order for the procedure to work as intended? Explain why.\n",
    "\n",
    "a) The length of numList must be even\n",
    "b) The list numList must not contain any duplicate values\n",
    "c) The values in numList must be in sorted order\n",
    "d) The value of target must not be equal to -1\n",
    "\n",
    "The correct answer is c because binary search has to be sorted in order to filter in an order that eliminates halves.\n",
    "\n",
    "---"
   ]
  },
  {
   "cell_type": "markdown",
   "metadata": {},
   "source": [
    "# Popcorn Hack 2 \n",
    "- Which of the following statements correctly describes a disadvantage of binary search compared to linear search? Explain why your answer is correct and why the others are wrong.\n",
    "\n",
    "a) Binary search takes more time on average than linear search  \n",
    "b) Binary search cannot be used on unsorted lists without modifications  \n",
    "c) Binary search always returns the first occurrence of the target  \n",
    "d) Binary search can only be used on lists with unique values  \n",
    "\n",
    "### My answer:\n",
    "a) Wrong because Binary search is faster on average than linear search because it halves the search space each step.\n",
    "b) Right, Binary search requires the list to be sorted, so it can't be used on unsorted lists without modifications.\n",
    "c) Wrong because Binary search does not guarantee the first occurrence is returned in a list with duplicates unless specifically implemented to do so.\n",
    "d) Wrong because Binary search works with duplicate values as long as the list is sorted; uniqueness is not required.\n",
    "\n",
    "---"
   ]
  },
  {
   "cell_type": "markdown",
   "metadata": {},
   "source": [
    "# Popcorn Hack 3\n",
    "\n",
    "Given the sorted list:\n",
    "\n",
    "<code>['a', 'b', 'c', 'd', 'e', 'f', 'g']</code>\n",
    "Code a binary search algorithm in your notebook that returns the index when given an element of the array (eg. an input of 'c' should return 2).\n",
    "\n"
   ]
  },
  {
   "cell_type": "code",
   "execution_count": 2,
   "metadata": {},
   "outputs": [
    {
     "data": {
      "text/plain": [
       "2"
      ]
     },
     "execution_count": 2,
     "metadata": {},
     "output_type": "execute_result"
    }
   ],
   "source": [
    "arr = ['a', 'b', 'c', 'd', 'e', 'f', 'g']\n",
    "\n",
    "def binary_search_strings(arr, target):\n",
    "    low, high = 0, len(arr) - 1\n",
    "\n",
    "    while low <= high:\n",
    "        mid = (low + high) // 2\n",
    "        guess = arr[mid]\n",
    "\n",
    "        if guess == target:\n",
    "            return mid  # Found it!\n",
    "        elif guess < target:\n",
    "            low = mid + 1  # Target comes after mid\n",
    "        else:\n",
    "            high = mid - 1  # Target comes before mid\n",
    "\n",
    "    return -1  # Not found\n",
    "binary_search_strings(arr, 'c')  # Example usage"
   ]
  }
 ],
 "metadata": {
  "kernelspec": {
   "display_name": "venv",
   "language": "python",
   "name": "python3"
  },
  "language_info": {
   "codemirror_mode": {
    "name": "ipython",
    "version": 3
   },
   "file_extension": ".py",
   "mimetype": "text/x-python",
   "name": "python",
   "nbconvert_exporter": "python",
   "pygments_lexer": "ipython3",
   "version": "3.12.3"
  }
 },
 "nbformat": 4,
 "nbformat_minor": 2
}
