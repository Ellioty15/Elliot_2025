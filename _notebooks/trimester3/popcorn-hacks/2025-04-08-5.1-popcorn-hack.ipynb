{
 "cells": [
  {
   "cell_type": "markdown",
   "id": "9542ce8a",
   "metadata": {},
   "source": [
    "---\n",
    "comments: true\n",
    "layout: post\n",
    "title: 3.2 Popcorn Hacks\n",
    "categories: [CSP Big Idea 3.2]\n",
    "description: My answers for the popcorn hacks\n",
    "---"
   ]
  },
  {
   "cell_type": "markdown",
   "id": "d201a49d",
   "metadata": {},
   "source": [
    "# Popcorn Hack #1\n",
    "\n",
    "Create a list named movies containing your four favorite movies. Write Python code to replace the second movie with a new movie, add another movie to the list, and display the updated list."
   ]
  },
  {
   "cell_type": "code",
   "execution_count": 2,
   "id": "fd756781",
   "metadata": {},
   "outputs": [
    {
     "name": "stdout",
     "output_type": "stream",
     "text": [
      "['lion king', 'finding nemo', 'inside out', 'minecraft movie']\n",
      "['lion king', 'finding nemo', 'inside out 2', 'minecraft movie']\n"
     ]
    }
   ],
   "source": [
    "movies = [\"lion king\", \"finding nemo\", \"inside out\", \"minecraft movie\"]\n",
    "print(movies)\n",
    "\n",
    "movies[2] = \"inside out 2\"   # Changing element\n",
    "\n",
    "print(movies) \n"
   ]
  },
  {
   "cell_type": "markdown",
   "id": "22740b7f",
   "metadata": {},
   "source": [
    "# Popcorn Hack #2\n",
    "Given the list ages = [15, 20, 34, 16, 18, 21, 14, 19], write Python code to create a new list containing only ages that are eligible for voting (18 or older)."
   ]
  },
  {
   "cell_type": "code",
   "execution_count": 5,
   "id": "0da65354",
   "metadata": {},
   "outputs": [
    {
     "name": "stdout",
     "output_type": "stream",
     "text": [
      "[20, 34, 18, 21, 19]\n"
     ]
    }
   ],
   "source": [
    "ages = [15, 20, 34, 16, 18, 21, 14, 19]\n",
    "voting_ages= [num for num in ages if num >= 18]\n",
    "print(voting_ages)\n",
    "\n"
   ]
  }
 ],
 "metadata": {
  "kernelspec": {
   "display_name": "venv",
   "language": "python",
   "name": "python3"
  },
  "language_info": {
   "codemirror_mode": {
    "name": "ipython",
    "version": 3
   },
   "file_extension": ".py",
   "mimetype": "text/x-python",
   "name": "python",
   "nbconvert_exporter": "python",
   "pygments_lexer": "ipython3",
   "version": "3.12.3"
  }
 },
 "nbformat": 4,
 "nbformat_minor": 5
}
