{
 "cells": [
  {
   "cell_type": "markdown",
   "metadata": {},
   "source": [
    "---\n",
    "comments: true\n",
    "layout: post\n",
    "title: 5.3 Popcorn Hacks\n",
    "categories: [CSP Big Idea 5.3]\n",
    "description: My answers for the popcorn hacks\n",
    "---"
   ]
  },
  {
   "cell_type": "markdown",
   "metadata": {},
   "source": [
    "# Popcorn Hack #1 \n",
    "Provide an example of a movie, TV show, video game, or software that demonstrates bias and specify who is affected by it. Explain a potential cause of this bias. \n",
    "\n",
    "Some websites with bias are fitness websites. As a student who has been working on a healthier lifestyle, it is evident that many fitness websites restrict their services to people over 18. While this does make sense as some fitness goals can be unhealthy for people who haven't fully matured yet, it would still be beneficial to provide guidance to students.\n",
    "\n",
    "---\n",
    "\n",
    "# Popcorn Hack #2 \n",
    "Think about a time when you felt a technology didn't work well for you. What was the issue, and how did it make you feel? Write a short paragraph describing the experience and suggest one way the technology could be improved to be more inclusive\n",
    "\n",
    "A time when my technology didn't work well for me was when I was scrolling on instagram reels. It kept me to a specific type of content. For example, I liked one video of a meme, and I kept getting videos of similar memes. Although I found them funny, I wanted to see a wider variety of videos.\n",
    "---\n",
    "\n",
    "# Popcorn Hack #3\n",
    "\n",
    "Imagine you're designing a fitness tracking app. How could bias sneak into your app's recommendations or performance evaluations? Think about users with different physical abilities, ages, or health conditions. What features could you add to ensure the app is fair and inclusive for all users?\n",
    "\n",
    "Bias could be found in a fitness tracking app based on age. For example, the app could be designed with data only from people who are in their twenties, meaning that it will not cater to users who are in their teens or are older. A way to fix this would be to ensure that data is gathered from a wide variety of users.\n",
    "\n"
   ]
  },
  {
   "cell_type": "markdown",
   "metadata": {},
   "source": [
    "# Popcorn Hac"
   ]
  }
 ],
 "metadata": {
  "language_info": {
   "name": "python"
  }
 },
 "nbformat": 4,
 "nbformat_minor": 2
}
