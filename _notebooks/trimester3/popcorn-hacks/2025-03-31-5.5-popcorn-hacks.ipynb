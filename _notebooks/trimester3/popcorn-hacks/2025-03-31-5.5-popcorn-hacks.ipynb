{
 "cells": [
  {
   "cell_type": "markdown",
   "metadata": {},
   "source": [
    "---\n",
    "comments: true\n",
    "layout: post\n",
    "title: 5.5 Popcorn Hacks\n",
    "categories: [CSP Big Idea 5.5]\n",
    "description: My answers for the popcorn hacks\n",
    "---"
   ]
  },
  {
   "cell_type": "markdown",
   "metadata": {},
   "source": [
    "# Popcorn Hack #1\n",
    "What are some ways to protect intellectual property? Write down what you remember in a notebook.\n",
    "\n",
    "Some ways to protect intellectual property is to use DRM to restrict access and copying, Watermarking to protect own content, licensing agreements that specify how the property can be used.\n",
    "\n",
    "# Popcorn Hack #2\n",
    "Define a MIT license and what one for your own repository would look like.\n",
    "\n",
    "An MIT license is an open-source license allowing almost unrestricted use of software. Permission must be given. For our own repository, it would mean that people can use our code, but they cannot claim it as their own work.\n",
    "\n",
    "# Popcorn Hack #3\n",
    "Define a creative common license. What are exceptions to the copyright law?\n",
    "\n",
    "A creative common license is a public copyright license which allows creators to grant rights. Some exceptions to the copyright law are using works for education, news reporting, parody.\n",
    "\n",
    "# Popcorn Hack #4\n",
    "With a partner, name as many ways as you can remember to prevent copyright infringement. Write what you came up with in a jupyter notebook. Also write down who you talked to.\n",
    "\n",
    "I talked to Johan and Gavin. Some ways to prevent copyright infringement was using creative common licenses to ensure that only the rights given will be used, creating your own content, site your sources. "
   ]
  }
 ],
 "metadata": {
  "language_info": {
   "name": "python"
  }
 },
 "nbformat": 4,
 "nbformat_minor": 2
}
