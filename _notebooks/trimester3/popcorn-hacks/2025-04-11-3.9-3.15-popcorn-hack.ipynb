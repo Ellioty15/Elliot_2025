{
 "cells": [
  {
   "cell_type": "markdown",
   "id": "957cae49",
   "metadata": {},
   "source": [
    "---\n",
    "comments: true\n",
    "layout: post\n",
    "title: 3.9-3.15 Popcorn Hacks\n",
    "categories: [CSP Big Idea 3.9-3.15]\n",
    "description: My answers for the popcorn hacks\n",
    "---"
   ]
  },
  {
   "cell_type": "markdown",
   "id": "d5067f87",
   "metadata": {},
   "source": [
    "# Popcorn Hack #1"
   ]
  },
  {
   "cell_type": "code",
   "execution_count": null,
   "id": "0b6bf267",
   "metadata": {},
   "outputs": [
    {
     "name": "stdout",
     "output_type": "stream",
     "text": [
      "Today’s random activity: Be productive and do your homework\n"
     ]
    }
   ],
   "source": [
    "# Popcorn Hack Number 2 (Random): Make a random algorithm to choose a daily activity:\n",
    "import random\n",
    "# Step 1: Define a list of activities\n",
    "activities = ['Go for a walk', 'Read a book', 'lock in', 'Cook', 'Watch minecraft movie', 'Play Guitar', 'Go for a run', 'Write in a journal', 'Meditate', 'Listen to music', 'Be productive and do your homework']\n",
    "# Step 2: Randomly choose an activity\n",
    "random_activity = random.choice(activities)\n",
    "# Step 3: Display the chosen activity\n",
    "print(f\"Today’s random activity: {random_activity}\")"
   ]
  },
  {
   "cell_type": "markdown",
   "id": "2fdb12c2",
   "metadata": {},
   "source": [
    "## Popcorn Hack #2\n",
    "You and your team are hosting a party. With your team, make a random algorithm to help them decide which person should monitor which activity. Copy and Paste this code into a Python cell in your jupyter notebook, change the names and types of activities, and see which gets chosen. "
   ]
  },
  {
   "cell_type": "code",
   "execution_count": 3,
   "id": "c4795d01",
   "metadata": {},
   "outputs": [
    {
     "name": "stdout",
     "output_type": "stream",
     "text": [
      "Gavin will be monitoring snack center!\n",
      "Johan will be monitoring take a selfie!\n",
      "Jacob will be monitoring dancing!\n",
      "Elliot will be monitoring photo booth!\n"
     ]
    }
   ],
   "source": [
    "# Popcorn Hack Number 3: Using a loops in random\n",
    "# This popcorn hack assigns an activity to each person\n",
    "import random\n",
    "hosts = ['Gavin', 'Johan', 'Jacob', 'Elliot']\n",
    "activities = ['dancing', 'games', 'snack center', 'photo booth', 'karaoke', 'take a selfie', ]\n",
    "# Randomly shuffle the list of activities to assign them randomly to the guests\n",
    "random.shuffle(activities)\n",
    "# Loop through each guest and assign them a random activity\n",
    "for i in range(len(hosts)):\n",
    "    print(f\"{hosts[i]} will be monitoring {activities[i]}!\")"
   ]
  },
  {
   "cell_type": "markdown",
   "id": "94832ea2",
   "metadata": {},
   "source": [
    "## Popcorn Hack #3\n",
    "Instead of a dice roll, this time let's create a number spinner. Use the set up of the dice roll example to simulate a number spinner. Create whatever range of numbers you want and share your range and output with the class when finished! "
   ]
  },
  {
   "cell_type": "code",
   "execution_count": 5,
   "id": "c1100c96",
   "metadata": {},
   "outputs": [
    {
     "name": "stdout",
     "output_type": "stream",
     "text": [
      "Number: 12\n"
     ]
    }
   ],
   "source": [
    "import random\n",
    "\n",
    "def roll_dice():\n",
    "    return random.randint(1, 50)\n",
    "\n",
    "dice_roll = roll_dice()\n",
    "print(\"Number:\", dice_roll)"
   ]
  },
  {
   "cell_type": "markdown",
   "id": "18b6d0f6",
   "metadata": {},
   "source": [
    "## Rock Paper Scissors activity"
   ]
  },
  {
   "cell_type": "code",
   "execution_count": 11,
   "id": "a7839efd",
   "metadata": {},
   "outputs": [
    {
     "name": "stdout",
     "output_type": "stream",
     "text": [
      "Computer chose: paper\n",
      "You chose: scissors\n",
      "You win!\n"
     ]
    }
   ],
   "source": [
    "import random\n",
    "\n",
    "def play_rock_paper_scissors():\n",
    "    choices = ['rock', 'paper', 'scissors']\n",
    "    computer_choice = random.choice(choices)\n",
    "    user_choice = input(\"Enter your choice (rock, paper, or scissors): \")\n",
    "\n",
    "    if user_choice not in choices:\n",
    "        print(\"Invalid choice. Please try again.\")\n",
    "        return\n",
    "\n",
    "    print(\"Computer chose:\", computer_choice)\n",
    "    print(\"You chose:\", user_choice)\n",
    "\n",
    "    if user_choice == computer_choice:\n",
    "        print(\"It's a tie!\")\n",
    "    elif (user_choice == 'rock' and computer_choice == 'scissors') or (user_choice == 'paper' and computer_choice == 'rock') or (user_choice == 'scissors' and computer_choice == 'paper'):\n",
    "        print(\"You win!\")\n",
    "    else:\n",
    "        print(\"You lose!\")\n",
    "\n",
    "play_rock_paper_scissors()"
   ]
  },
  {
   "cell_type": "markdown",
   "id": "9ebf39f1",
   "metadata": {},
   "source": []
  }
 ],
 "metadata": {
  "kernelspec": {
   "display_name": "Python 3",
   "language": "python",
   "name": "python3"
  },
  "language_info": {
   "codemirror_mode": {
    "name": "ipython",
    "version": 3
   },
   "file_extension": ".py",
   "mimetype": "text/x-python",
   "name": "python",
   "nbconvert_exporter": "python",
   "pygments_lexer": "ipython3",
   "version": "3.12.3"
  }
 },
 "nbformat": 4,
 "nbformat_minor": 5
}
