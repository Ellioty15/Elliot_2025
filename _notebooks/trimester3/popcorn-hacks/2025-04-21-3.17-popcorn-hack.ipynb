{
 "cells": [
  {
   "cell_type": "markdown",
   "id": "de527bd9",
   "metadata": {},
   "source": []
  },
  {
   "cell_type": "markdown",
   "id": "92c51cfe",
   "metadata": {},
   "source": [
    "# Popcorn Hack #1\n",
    "<code> arr = [1,2,3,4,5]</code>\n",
    "1. print the third item from the array using constant time (O(1))\n",
    "2. Print all the items from the array using linear time(O(n))"
   ]
  },
  {
   "cell_type": "code",
   "execution_count": 2,
   "id": "4c3933db",
   "metadata": {},
   "outputs": [
    {
     "name": "stdout",
     "output_type": "stream",
     "text": [
      "3\n"
     ]
    }
   ],
   "source": [
    "arr = [1, 2, 3, 4, 5]\n",
    "print(arr[2]) "
   ]
  },
  {
   "cell_type": "code",
   "execution_count": 3,
   "id": "4d9eb254",
   "metadata": {},
   "outputs": [
    {
     "name": "stdout",
     "output_type": "stream",
     "text": [
      "1\n",
      "2\n",
      "3\n",
      "4\n",
      "5\n"
     ]
    }
   ],
   "source": [
    "arr = [1,2,3,4,5]\n",
    "for num in arr:\n",
    "    print (num)"
   ]
  },
  {
   "cell_type": "markdown",
   "id": "3a366080",
   "metadata": {},
   "source": [
    "# Popcorn Hack #2\n",
    "Given the array of numbers from 1-3 (arr = [1,2,3]). Write a function that prints all the different unique pairs of numbers from the array. For example the output of this array should be: (1,2) (1,3) (2,3)\n",
    "\n",
    "Addtionally, what time complexity is this code? Write a small explanation."
   ]
  },
  {
   "cell_type": "code",
   "execution_count": 7,
   "id": "fb042f18",
   "metadata": {},
   "outputs": [
    {
     "name": "stdout",
     "output_type": "stream",
     "text": [
      "(1, 2)\n",
      "(1, 3)\n",
      "(2, 3)\n"
     ]
    }
   ],
   "source": [
    "def unique_pairs(arr):\n",
    "    for i in range(len(arr)):\n",
    "        for j in range(i + 1, len(arr)):\n",
    "            print((arr[i], arr[j]))\n",
    "\n",
    "# Example usage:\n",
    "unique_pairs([1, 2, 3])\n"
   ]
  },
  {
   "cell_type": "markdown",
   "id": "005ea856",
   "metadata": {},
   "source": [
    "The outer loop picks one number, and the inner loop pairs it with all the numbers after it. As the list gets bigger, the number of pairs grows like the square of the list size. The time complexity is O(n²) because it grows as fast as n increases.  "
   ]
  },
  {
   "cell_type": "markdown",
   "id": "c867b0b2",
   "metadata": {},
   "source": [
    "# Popcorn Hack #3\n",
    "Which of these is inefficient for large inputs?\n",
    "\n",
    "a) linear time\n",
    "b) factorial time\n",
    "c) constant time\n",
    "d) linearithic time\n",
    "\n",
    "Factorial time, as it grows very fast\n",
    "\n",
    "which of these can be represented by a nested loop?\n",
    "a) logarithmic time\n",
    "b) linearithmic time\n",
    "c) quadratic time\n",
    "d) linear time\n",
    "\n",
    "Quadratic time is represented by a nested loop\n"
   ]
  }
 ],
 "metadata": {
  "kernelspec": {
   "display_name": "Python 3",
   "language": "python",
   "name": "python3"
  },
  "language_info": {
   "codemirror_mode": {
    "name": "ipython",
    "version": 3
   },
   "file_extension": ".py",
   "mimetype": "text/x-python",
   "name": "python",
   "nbconvert_exporter": "python",
   "pygments_lexer": "ipython3",
   "version": "3.12.3"
  }
 },
 "nbformat": 4,
 "nbformat_minor": 5
}
