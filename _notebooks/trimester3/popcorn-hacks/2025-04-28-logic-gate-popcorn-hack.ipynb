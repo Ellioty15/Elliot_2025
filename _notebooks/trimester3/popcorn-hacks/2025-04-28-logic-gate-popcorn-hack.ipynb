{
 "cells": [
  {
   "cell_type": "markdown",
   "id": "1794cd7c",
   "metadata": {},
   "source": [
    "---\n",
    "comments: true\n",
    "layout: post\n",
    "title: Logic Gate Popcorn Hacks\n",
    "description: My answers for the popcorn hacks\n",
    "---"
   ]
  },
  {
   "cell_type": "markdown",
   "id": "159553e9",
   "metadata": {},
   "source": [
    "# Popcorn Hack #1\n",
    "What are methods of real-world purpose that using logic gates can implement? Explain deeper if using our listed impacts, explaining why this impact is helpful.\n",
    "\n",
    "### Example 1: Security Alarm System (Using Logic Gates)\n",
    "- A house alarm uses an OR gate.\n",
    "- If door opens OR window breaks an alarm will sounds\n",
    "\n",
    "Why logic gates help:\n",
    "- The OR gate makes it so either problem (door or window) triggers protection.\n",
    "- It keeps homes safe by detecting any break-in fast.\n",
    "\n",
    "---\n",
    "\n",
    "### Example 2: Traffic Light Controller (Using Logic Gates)\n",
    "\n",
    "How it works:\n",
    "- A city traffic light uses AND gates and NOT gates.\n",
    "- If car at intersection AND timer says green → Light turns green.\n",
    "- If no cars (NOT car detected) → Keep light red or switch faster.\n",
    "\n",
    "- Traffic flows smoothly without wasting time.\n",
    "- Prevents crashes and saves gas by reducing long wait times at empty intersections.\n",
    "\n",
    "---\n"
   ]
  },
  {
   "cell_type": "markdown",
   "id": "e2b15190",
   "metadata": {},
   "source": [
    "# Popcorn Hack #2\n",
    "A digital circuit receives three binary inputs: X, Y, and Z. The circuit outputs 1 if and only if X AND Y are both 1, OR Z is 1.\n",
    "\n",
    "Which of the following expressions represents the circuit’s behavior?\n",
    "\n",
    "A. (X AND Y) OR Z B. X AND (Y OR Z) C. (X OR Y) AND Z D. NOT(X AND Y) OR Z\n",
    "\n",
    "A is the correct answer"
   ]
  }
 ],
 "metadata": {
  "language_info": {
   "name": "python"
  }
 },
 "nbformat": 4,
 "nbformat_minor": 5
}
