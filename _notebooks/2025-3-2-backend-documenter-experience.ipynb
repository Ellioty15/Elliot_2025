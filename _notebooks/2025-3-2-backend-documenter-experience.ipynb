{
 "cells": [
  {
   "cell_type": "markdown",
   "metadata": {},
   "source": [
    "---\n",
    "layout: post\n",
    "title: Backend Documentation\n",
    "description: My experience as a backend documenter\n",
    "permalink: /backend_documentation/\n",
    "---"
   ]
  },
  {
   "cell_type": "markdown",
   "metadata": {},
   "source": [
    "# My responsibility\n",
    "As a backend documenter, my primary role is to keep track of updates, changes, and new features implemented in the backend system of our site, and discuss these changes with my scrum team. Over time, I’ve gained valuable insights about the best practices for the backend. In my experience, the backend is more important than the frontend. It was where all of our APIs were stored, so I had to make sure to check the backend frequently for problems.  "
   ]
  },
  {
   "cell_type": "markdown",
   "metadata": {},
   "source": [
    "# What I did\n",
    "As my groupmates were adding APIs to improve our website, there would be problems with the APIs that interfered with other APIs or did not work when main.py was running. When this happened, I checked the source control to see who had made the latest commits. \n",
    "<img src=\"{{site.baseurl}}/images/sourcecontrol.png\" alt=\"Image 1\" style=\"width: 200px; height: auto;\">\n",
    "Once identified, we would revert these commits by going back to the file before the commits and undoing our changes by deleting the changes and copying the old file. In this case, we were able to prevent errors that would affect everyone's code.\n",
    "\n",
    "Similarly, I made sure to communicate with my group when they should pull. I was constantly sending reminders to pull backend changes to prevent merge errors.\n",
    "\n",
    "<img src=\"{{site.baseurl}}/images/pullreminder.png\" alt=\"Image 2\" style=\"width: 200px; height: auto;\">\n",
    "\n",
    "By doing this, I was able to help my group to have an easier time working together. I think that I can responsibly conduct this role in the future, and if I were to improve then I would start recording every single backend commit in an issue in our kanban board.\n"
   ]
  }
 ],
 "metadata": {
  "language_info": {
   "name": "python"
  }
 },
 "nbformat": 4,
 "nbformat_minor": 2
}
