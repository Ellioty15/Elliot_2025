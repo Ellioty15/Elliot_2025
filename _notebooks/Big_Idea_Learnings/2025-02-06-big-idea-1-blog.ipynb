{
 "cells": [
  {
   "cell_type": "markdown",
   "metadata": {},
   "source": [
    "---\n",
    "layout: post\n",
    "title: Big Idea 1 Blog\n",
    "description: my learnings from big idea 1\n",
    "permalink: /big_idea_1/\n",
    "---"
   ]
  }
 ],
 "metadata": {
  "language_info": {
   "name": "python"
  }
 },
 "nbformat": 4,
 "nbformat_minor": 2
}
