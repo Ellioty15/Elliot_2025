{
 "cells": [
  {
   "cell_type": "markdown",
   "metadata": {},
   "source": [
    "---\n",
    "layout: post\n",
    "title: Big Idea 1 Blog\n",
    "description: my learnings from big idea 1\n",
    "permalink: /big_idea_1/\n",
    "---"
   ]
  },
  {
   "cell_type": "markdown",
   "metadata": {},
   "source": [
    "# Big Idea 1\n",
    "Big Idea 1 of AP CSP's College Board requirements revolves around creative development. This includes collaboration, program function and purpose, program design, development, and being able to identify and correct errors."
   ]
  },
  {
   "cell_type": "markdown",
   "metadata": {},
   "source": [
    "### 1.1 Collaboration\n",
    "Collaboration is the biggest recurring concept in our CSP class. In a group of 6, we used Agile and Scrum methods in order to create an efficient team that is able to function and get its work done. Without collaboration and communication especially, our group would not have been able to be successful in the class. I had always thought that coding was a one man job where someone was shut into an office by themselves, but now I'm realizing that no good website can come from a single person who refuses to work with others. In order to maximize our efforts, we created a kanban board and frequently chatted within our slack groupchat. \n",
    "\n",
    "I think we really stepped up our collaboration when we started having **stand up meetings**. before, our group would constantly be losing out on points because we assumed that everyone had understood their roles, but on the day of the review we were all scrambling to figure our what we were presenting and how to show our work. This allowed us to establish better connections and a more encouraging environment, and I was excited to share my ideas to my group because I knew that they would consider them."
   ]
  },
  {
   "cell_type": "markdown",
   "metadata": {},
   "source": [
    "### 1.2 Program Function and Purpose\n",
    "\n",
    "In order for us to be successful for writing code and making sure they would function, we had to first understand how our program would function and be appropriate for the theme of our project. After thorough brainstorming and planning, we had a clear vision of the six functions that we wanted in our code.\n",
    "\n",
    "In creating my feature, I had a clear view of what my feature should look like because I had spent time researching other AI tools. This allowed me to style in ways that were pleasing to the eye, and I could write a backend API for gemini and set a prompt for the AI that followed our focus on camping/national parks:\n",
    "\n",
    "<code>\n",
    "generation_config = {\n",
    "    \"temperature\": 1.0,\n",
    "    \"top_p\": 1,\n",
    "    \"top_k\": 50,\n",
    "    \"max_output_tokens\": 1000,\n",
    "    \"response_mime_type\": \"text/plain\",\n",
    "}\n",
    "</code>\n",
    "<code>\n",
    "system_instruction = (\n",
    "    \"You are an AI expert specializing in camping advice. You have the knowledge of park rangers and survival specialists. \"\n",
    "    \"You are knowledgeable about camping in national parks, especially in tundras, deserts, valleys, mountains, and forests. \"\n",
    "    \"You provide expert guidance on the best camping gear and brands, strategies for sourcing food in the wild, essential survival skills, and practical tips and tricks for a safe and enjoyable outdoor experience. \"\n",
    "    \"Maintain a friendly and supportive tone suitable for campers of all levels. \"\n",
    "    \"Inform the users about the best camping brands and cheaper alternatives. \"\n",
    "    \"Your responses are short, concise, and easy to understand. \"\n",
    "    \"You DO NOT give responses longer than 4 sentences.\"\n",
    ")\n",
    "</code>\n",
    "<code>\n",
    "model = genai.GenerativeModel(\n",
    "    model_name=\"gemini-1.5-flash\",\n",
    "    generation_config=generation_config,\n",
    "    system_instruction=system_instruction,\n",
    ")\n",
    "</code>"
   ]
  },
  {
   "cell_type": "markdown",
   "metadata": {},
   "source": [
    "### 1.3 Program Design and Development\n",
    "\n",
    "In order to ensure that users would find our features useful and easy to access, we put ourselves in a user's perspective and communicated to each other about what we want our website to look like. With frequent reviews with each other and Mr. Mortenson, we were also able to improve our website through iteration.\n",
    "\n",
    "Again, by researching what we wanted and comparing our websites to existing professional websites, we were able to improve our design and development.\n",
    "\n",
    "For example, we had made a planning issue that showcased what our website was meant to do: \n",
    "\n",
    "<img src=\"{{site.baseurl}}/images/campingplan.png\" alt=\"Image 1\">\n",
    "<img src=\"{{site.baseurl}}/images/nationalparksplan.png\" alt=\"Image 2\">\n",
    "<img src=\"{{site.baseurl}}/images/kanbanboard.png\" alt=\"Image 3\" >\n",
    "\n",
    "\n"
   ]
  },
  {
   "cell_type": "markdown",
   "metadata": {},
   "source": [
    "### 1.4 Identifying and Correcting Errors\n",
    "\n",
    "There definitely wasn't a single line of code that was completely void of errors while we were developing code. By frequently using the debug function of main.py and using tools like copilot, we were able to detect lines of code where things had gone wrong. We also used postman to test our code, and when we saw error messages we were able to identify issues with our code. Some examples were that our code wasn't going to the correct endpoint, or our crud functions were wrong. \n",
    "\n",
    "<img src=\"{{site.baseurl}}/images/postmanerror.png\" alt=\"Image 4\" >\n",
    "\n",
    "\n",
    "We also inputted lines of code that would define errors:\n",
    "\n",
    "<code> \n",
    "message = AIMessage.query.get(message_id)\n",
    "if not message:\n",
    "return jsonify({\"error\": \"Message not found\"}), 404\n",
    "</code>\n",
    "\n",
    "<code> \n",
    "data = request.get_json()\n",
    "if not data:\n",
    "return jsonify({\"error\": \"Invalid JSON\"}), 400\n",
    "</code>\n",
    "<code> message_id = data.get(\"id\")\n",
    "if not message_id:\n",
    "return jsonify({\"error\": \"Message ID is required\"}), 400\n",
    "</code>\n",
    "<code> message = AIMessage.query.get(message_id)\n",
    "if not message:\n",
    "return jsonify({\"error\": \"Message not found\"}), 404\n",
    "</code>\n"
   ]
  },
  {
   "cell_type": "markdown",
   "metadata": {},
   "source": [
    "### Conclusion\n",
    "\n",
    "Reflecting upon Big Idea 1, I'm realizing that this isn't just for coding, its applicable in all parts of my life. In almost all cases, I will be able to do more by collaborating, troubleshooting, planning, and understanding the purpose of my future tasks. This was definitely an experience that has allowed me to grow as a developer and a student, and even as a future employee."
   ]
  }
 ],
 "metadata": {
  "language_info": {
   "name": "python"
  }
 },
 "nbformat": 4,
 "nbformat_minor": 2
}
