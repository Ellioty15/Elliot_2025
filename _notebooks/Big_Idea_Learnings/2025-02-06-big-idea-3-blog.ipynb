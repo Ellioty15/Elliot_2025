{
 "cells": [
  {
   "cell_type": "markdown",
   "metadata": {},
   "source": [
    "---\n",
    "layout: post\n",
    "title: Big Idea 3 Blog\n",
    "description: my learnings from big idea 3\n",
    "permalink: /big_idea_3/\n",
    "---"
   ]
  },
  {
   "cell_type": "markdown",
   "metadata": {},
   "source": [
    "# Big Idea 3\n",
    "AP CSP's Big Idea 3 is centered around data and how it can be represented and manipulated. This includes variables, data abstraction, strings, boolean expressions, conditionals, iteration, lists, developing algorithms, and mathematical expressions.\n",
    "\n",
    "### 3.1 Variables and Assignments\n",
    "Understanding variables and assignments was a strong base in my experience learning how to code. Variables can store data, which can then be referenced and stored throughout the program. \n",
    "\n",
    "in my <code>gemini.py</code>, I use variables to create and store messages dynamically based on user input. For example, when processing a message, the variable ai_message holds the newly created message object:"
   ]
  },
  {
   "cell_type": "markdown",
   "metadata": {},
   "source": [
    "<code>\n",
    "def update_history(self, role: str, message: str):\n",
    "        ai_message = AIMessage(\n",
    "            message=message,\n",
    "            author=role,\n",
    "            category=\"response\" if role == \"assistant\" else \"user\"\n",
    "        )\n",
    "        ai_message.create()\n",
    "        return ai_message.id\n",
    "</code>"
   ]
  },
  {
   "cell_type": "markdown",
   "metadata": {},
   "source": [
    "Here, the variable ai_message stores an instance of the AIMessage class, which includes the message text, author, and category. After calling ai_message.create(), the message is saved, and its unique ID is returned. This demonstrates how variables can dynamically manage user input and store data efficiently, making the system responsive and organized."
   ]
  },
  {
   "cell_type": "markdown",
   "metadata": {},
   "source": [
    "### 3.2 Data Abstraction"
   ]
  },
  {
   "cell_type": "markdown",
   "metadata": {},
   "source": [
    "### 3.3 Mathematical Expressions"
   ]
  },
  {
   "cell_type": "markdown",
   "metadata": {},
   "source": [
    "### 3.4 Strings"
   ]
  },
  {
   "cell_type": "markdown",
   "metadata": {},
   "source": [
    "### 3.5 Boolean Expressions"
   ]
  },
  {
   "cell_type": "markdown",
   "metadata": {},
   "source": [
    "### 3.6 Conditionals"
   ]
  },
  {
   "cell_type": "markdown",
   "metadata": {},
   "source": [
    "### 3.7 Nested Conditionals"
   ]
  },
  {
   "cell_type": "markdown",
   "metadata": {},
   "source": [
    "### 3.8 Iteration"
   ]
  },
  {
   "cell_type": "markdown",
   "metadata": {},
   "source": [
    "### Developing Argumentation"
   ]
  },
  {
   "cell_type": "markdown",
   "metadata": {},
   "source": [
    "### Lists"
   ]
  }
 ],
 "metadata": {
  "language_info": {
   "name": "python"
  }
 },
 "nbformat": 4,
 "nbformat_minor": 2
}
