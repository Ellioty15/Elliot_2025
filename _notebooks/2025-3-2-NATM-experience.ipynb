{
 "cells": [
  {
   "cell_type": "markdown",
   "metadata": {},
   "source": [
    "---\n",
    "layout: post\n",
    "title: Night at the Musem Experience and Self Assessment\n",
    "description: My reflection and learnings from Night at the Museum\n",
    "permalink: /NATM_experience/\n",
    "---"
   ]
  },
  {
   "cell_type": "markdown",
   "metadata": {},
   "source": [
    "# Night at the Museum\n",
    "Night at the museum was a fun and interactive experience that I used to share my learnings and progress throughout the trimester. Once I was done presenting, I went and reviewed other group's projects, from both CSP and CSA."
   ]
  },
  {
   "cell_type": "markdown",
   "metadata": {},
   "source": [
    "### Prism\n",
    "<img src=\"{{site.baseurl}}/images/prismNATM.png\" alt=\"Image 1\" style=\"width: 200px; height: auto;\">\n",
    "\n",
    "This project interested me because it was basically centered around AI, which I had been working with for a majority of project Frostbyte.\n",
    "\n",
    "The name was **Prism**, and it was a social media platform with AI. it could match people that had similar interests in order to discuss similar subjects with them in chatrooms, and there was also a daily question feature that would be different based on the interest.\n",
    "\n",
    "### Legendary Motorsport\n",
    "I also checked out the **Legendary Motorsport** project. This project had a post feauture and was centered around cars. You could input the information about a car and it would show up so that others could see the specs as well. \n",
    "\n",
    "### Study Buddy\n",
    "**Study Buddy** Was another very interesting project. I found it particularly interesting that people could share notes and search for notes, and I felt like it could be a feature that I would utilize often when studying for calculus. It could also store practice quiz results, and was very customizable by users. My favorite part about it however was its task manager/calander feature that allowed users to use their time wisely.\n",
    "\n",
    "\n",
    "### Other projects\n",
    "\n",
    "I started to interview others in order to remember their features and how they had implemented it.\n",
    "*These interviews should have volume, but those who can't turn up the volume can use closed captions instead.*\n",
    "\n",
    "In this video, I interviewed Sri, who had made a game for CSA: \n",
    "<iframe src=\"https://drive.google.com/file/d/1hrhVd_m1orwxef4_wjyaRECngbJE40P0/preview\" width=\"360\" height=\"640\" allow=\"autoplay\"></iframe>\n",
    "\n",
    "\n",
    "\n",
    "This was a group from CSP, here I interview Max and Darsha. I found their drawing feature very intriguing.\n",
    "<iframe src=\"https://drive.google.com/file/d/1ddXQw53h6qnZZxreSUVTIdLlEJDX-lDT/preview\" width=\"360\" height=\"640\" allow=\"autoplay\"></iframe>\n",
    "\n",
    "\n",
    "\n"
   ]
  },
  {
   "cell_type": "markdown",
   "metadata": {},
   "source": [
    "# NATM reflections\n",
    "\n",
    "Overall, our project demo was a success.\n",
    "We answered many questions, which were about our project's purpose, the functionality, our approach to coding, our team organization, and challenges. \n",
    "\n",
    "After setting up a google forms sheet, we have gotten feedback.\n",
    "<iframe src=\"https://docs.google.com/spreadsheets/d/e/2PACX-1vRy5R_AAmpUvXH3Y8R-tsc1EK461AHToffOjFmSCYPLoNKOTxlikkZIzhnDfSaXPxudD-JBhbOuxgZI/pubhtml?widget=true&amp;headers=false\" \n",
    "    width=\"100%\" \n",
    "    height=\"600\" \n",
    "    style=\"border: 1px solid #ccc; border-radius: 8px;\">\n",
    "</iframe>\n",
    "\n",
    "A common theme that people had were that our site needs some updating to style, as we were not able to focus on styling as much as we focused on our code. We also had many features, and a task that we need to do is to incorporate them and build off of them in every section of our website."
   ]
  },
  {
   "cell_type": "markdown",
   "metadata": {},
   "source": [
    "# My Self Grade\n",
    "I think that I deserve 9/10 for the final retrospective.\n",
    "\n",
    "4.8/5 My 5 things were my 1.Kanban Board and Burndown list, 2. My Gemini Feature, 3. My Gemini Chatroom, 4. Being a Backend Documenter for my team during deployment, and 5. Being a coding for the camping section of our site and encouraging collaboration, not to mention styling and providing ideas for our group. I marked myself off by 0.2 points because I started to improve in the later half of the trimester, instead of documenting the backend and collaborating well during the whole trimester.\n",
    "1.75/2 My Gemini Feature isn't working very well on the Deployed Site, but works well locally. I was able to reflect on the N@tM feedback and I know my next steps for improving my social media website.\n",
    "1/1 point - Project Feature blog write up, using CPT/FRQ language\n",
    "I was able to \n",
    "1/1 point - MCQ\n",
    "I made sure that I was allowed to do the AP CSA exam. Once I got the permission, I went through and reflected, with corrections and identifying my next steps."
   ]
  }
 ],
 "metadata": {
  "language_info": {
   "name": "python"
  }
 },
 "nbformat": 4,
 "nbformat_minor": 2
}
