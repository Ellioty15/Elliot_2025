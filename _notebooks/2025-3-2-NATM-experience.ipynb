{
 "cells": [
  {
   "cell_type": "markdown",
   "metadata": {},
   "source": [
    "---\n",
    "layout: post\n",
    "title: Night at the Musem Experience\n",
    "description: My reflection and learnings from Night at the Museum\n",
    "permalink: /NATM_experience/\n",
    "---"
   ]
  },
  {
   "cell_type": "markdown",
   "metadata": {},
   "source": [
    "# Night at the Museum\n",
    "Night at the museum was a fun and interactive experience that I used to share my learnings and progress throughout the trimester. Once I was done presenting, I went and reviewed other group's projects, from both CSP and CSA."
   ]
  },
  {
   "cell_type": "markdown",
   "metadata": {},
   "source": [
    "### Prism\n",
    "<img src=\"{{site.baseurl}}/images/prismNATM.png\" alt=\"Image 1\" style=\"width: 200px; height: auto;\">\n",
    "\n",
    "This project interested me because it was basically centered around AI, which I had been working with for a majority of project Frostbyte.\n",
    "\n",
    "The name was **Prism**, and it was a social media platform with AI. it could match people that had similar interests in order to discuss similar subjects with them in chatrooms, and there was also a daily question feature that would be different based on the interest.\n",
    "\n",
    "### Legendary Motorsport\n",
    "I also checked out the **Legendary Motorsport** project. This project had a post feauture and was centered around cars. You could input the information about a car and it would show up so that others could see the specs as well. \n",
    "\n",
    "### Study Buddy\n",
    "**Study Buddy** Was another very interesting project. I found it particularly interesting that people could share notes and search for notes, and I felt like it could be a feature that I would utilize often when studying for calculus. It could also store practice quiz results, and was very customizable by users. My favorite part about it however was its task manager/calander feature that allowed users to use their time wisely.\n",
    "\n",
    "\n",
    "### Other projects\n",
    "\n",
    "I started to interview others in order to remember their features and how they had implemented it.\n",
    "*These interviews should have volume, but those who can't turn up the volume can use closed captions instead.*\n",
    "\n",
    "In this video, I interviewed Sri, who had made a game for CSA: \n",
    "<iframe src=\"https://drive.google.com/file/d/1hrhVd_m1orwxef4_wjyaRECngbJE40P0/preview\" width=\"360\" height=\"640\" allow=\"autoplay\"></iframe>\n",
    "\n",
    "\n",
    "\n",
    "This was a group from CSP, here I interview Max and Darsha. I found their drawing feature very intriguing.\n",
    "<iframe src=\"https://drive.google.com/file/d/1ddXQw53h6qnZZxreSUVTIdLlEJDX-lDT/preview\" width=\"360\" height=\"640\" allow=\"autoplay\"></iframe>\n",
    "\n",
    "\n",
    "\n"
   ]
  }
 ],
 "metadata": {
  "language_info": {
   "name": "python"
  }
 },
 "nbformat": 4,
 "nbformat_minor": 2
}
