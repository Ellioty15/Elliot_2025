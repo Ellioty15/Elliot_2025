{
 "cells": [
  {
   "cell_type": "markdown",
   "metadata": {},
   "source": [
    "---\n",
    "layout: post\n",
    "title: Night at the Musem Experience and Self Assessment\n",
    "description: My reflection and learnings from Night at the Museum\n",
    "permalink: /NATM_experience/\n",
    "---"
   ]
  },
  {
   "cell_type": "markdown",
   "metadata": {},
   "source": [
    "# Night at the Museum\n",
    "Night at the museum was a fun and interactive experience that I used to share my learnings and progress throughout the trimester. Once I was done presenting, I went and reviewed other group's projects, from both CSP and CSA."
   ]
  },
  {
   "cell_type": "markdown",
   "metadata": {},
   "source": [
    "### Prism\n",
    "<img src=\"{{site.baseurl}}/images/prismNATM.png\" alt=\"Image 1\" style=\"width: 200px; height: auto;\">\n",
    "\n",
    "This project interested me because it was basically centered around AI, which I had been working with for a majority of project Frostbyte.\n",
    "\n",
    "The name was **Prism**, and it was a social media platform with AI. it could match people that had similar interests in order to discuss similar subjects with them in chatrooms, and there was also a daily question feature that would be different based on the interest.\n",
    "\n",
    "### Legendary Motorsport\n",
    "I also checked out the **Legendary Motorsport** project. This project had a post feauture and was centered around cars. You could input the information about a car and it would show up so that others could see the specs as well. \n",
    "\n",
    "### Study Buddy\n",
    "**Study Buddy** Was another very interesting project. I found it particularly interesting that people could share notes and search for notes, and I felt like it could be a feature that I would utilize often when studying for calculus. It could also store practice quiz results, and was very customizable by users. My favorite part about it however was its task manager/calander feature that allowed users to use their time wisely.\n",
    "\n",
    "\n",
    "### Other projects\n",
    "\n",
    "I started to interview others in order to remember their features and how they had implemented it.\n",
    "*These interviews should have volume, but those who can't turn up the volume can use closed captions instead.*\n",
    "\n",
    "In this video, I interviewed Sri, who had made a game for CSA: \n",
    "<iframe src=\"https://drive.google.com/file/d/1hrhVd_m1orwxef4_wjyaRECngbJE40P0/preview\" width=\"360\" height=\"640\" allow=\"autoplay\"></iframe>\n",
    "\n",
    "\n",
    "\n",
    "This was a group from CSP, here I interview Max and Darsha. I found their drawing feature very intriguing.\n",
    "<iframe src=\"https://drive.google.com/file/d/1ddXQw53h6qnZZxreSUVTIdLlEJDX-lDT/preview\" width=\"360\" height=\"640\" allow=\"autoplay\"></iframe>\n",
    "\n",
    "\n",
    "\n"
   ]
  },
  {
   "cell_type": "markdown",
   "metadata": {},
   "source": [
    "# NATM reflections\n",
    "\n",
    "Overall, our project demo was a success.\n",
    "We answered many questions, which were about our project's purpose, the functionality, our approach to coding, our team organization, and challenges. \n",
    "\n",
    "After setting up a google forms sheet, we have gotten feedback.\n",
    "<iframe src=\"https://docs.google.com/spreadsheets/d/e/2PACX-1vRy5R_AAmpUvXH3Y8R-tsc1EK461AHToffOjFmSCYPLoNKOTxlikkZIzhnDfSaXPxudD-JBhbOuxgZI/pubhtml?widget=true&amp;headers=false\" \n",
    "    width=\"100%\" \n",
    "    height=\"600\" \n",
    "    style=\"border: 1px solid #ccc; border-radius: 8px;\">\n",
    "</iframe>\n",
    "\n",
    "A common theme that people had were that our site needs some updating to style, as we were not able to focus on styling as much as we focused on our code. We also had many features, and a task that we need to do is to incorporate them and build off of them in every section of our website."
   ]
  },
  {
   "cell_type": "markdown",
   "metadata": {},
   "source": [
    "# My Future in Computer Science\n",
    "\n",
    "### What I Learned\n",
    "Taking AP Computer Science Principles (CSP) has truly expanded my understanding of computer science beyond just coding. I find it intriguing that almost everything runs on some sort of code, and I like to contemplate how people approached their projects. It’s been an eye-opening experience that has not only broadened my knowledge but also equipped me with critical thinking and collaboration skills through group projects. This class has also taught me that in order to approach large tasks, I should split them into subtasks and take a consistent approach.\n",
    "\n",
    "In addition, the introduction to Agile and Scrum methodologies has prepared me for future coursework and real-world applications, especially after hearing college students describe how their experiences in AP CSP helped them transition smoothly into college assignments. Attending the college panel has helped me understand my next steps in high school in order to have a better chance in College. I talked to Edwin Abraham, and he suggested that I join clubs inside or outside of school, that has lead me to join UCSD's Cyber ACM club(unofficially). I have also planned hackathons with Aranya Bhattacharya, and I have a project in mind for the summer.\n",
    "\n",
    "\n",
    "Next year, I'll be taking AP Computer Science A (CSA), which will further enhance my programming abilities. I think that the things I learned this trimester will provide a strong foundation for next trimester and next year, especially the collaboration aspect and addressing the challenges of working in a group, rather than working by myself.\n",
    "\n",
    "I am also be studying cybersecurity. By taking Google's Cybsersecurity course, I was able to learn more about things like the CLI and GUIs and also how to use Linux and SQL, as well as internet protocols that keep networks and corporations secure. I was glad that the things I learned in CSP this trimester also showed up in the working world more often than I thought.\n",
    "\n",
    "Career wise, I believe that CSP has provided a stronger basis of code that has allowed me to get hired at Code Ninjas. It was something that I talked about on my resume, and I think that my experience working with other people as well has given me the qualification to learn and teach coding to younger students."
   ]
  },
  {
   "cell_type": "markdown",
   "metadata": {},
   "source": [
    "| Criteria                                                                                                                                                                  | Score | Explanation                                                                                                                                                                                                                                                                                                                                                           |\n",
    "|--------------------------------------------------------------------------------------------------------------------------------------------------------------------------|-------|-----------------------------------------------------------------------------------------------------------------------------------------------------------------------------------------------------------------------------------------------------------------------------------------------------------------------------------------------------------------------|\n",
    "| **5 points** - 5 things you did over 12 weeks, Issues, burndown, presentation                                                                                            | 4.6S   | My 5 things were my 1. Kanban Board and Burndown list, 2. My Gemini Feature, 3. My Gemini Chatroom, 4. Being a Backend Documenter for my team during deployment, and 5. Being a coder for the camping section of our site and encouraging collaboration, not to mention styling and providing ideas for our group. I marked myself off by 0.5 points because I started to improve in the later half of the trimester, instead of documenting the backend and collaborating well during the whole trimester. |\n",
    "| **2 points** - Full Stack Project Demo, including CPT requirement highlights, and N@tM feedback                                                                          | 1.5  | My Gemini Feature isn't working very well on the Deployed Site, but works well locally. I was able to reflect on the N@tM feedback and I know my next steps for improving my social media website.                                                                                                                                                                      |\n",
    "| **1 point** - Project Feature blog write up, using CPT/FRQ language                                                                                                      | 1     | I wrote a detailed Project Feature Blog and addressed College Board requirements.                                                                                                                                                                                                                                                                                      |\n",
    "| **1 point** - MCQ                                                                                                                                                        | 1     | I made sure that I was allowed to do the AP CSA exam. Once I got the permission, I went through and reflected, with corrections and identifying my next steps.                                                                                                                                                                                                           |\n",
    "| **9/10 points** - The 10th point comes from ability to impress in reflection and looking forward (Retrospective). Taking extreme interests in other projects and people.  | 1     | I collaborated with Noah Harris, Zafeer Ahmed, and Johan Mascaraneas on the weekend to review our plans and to practice getting our blogs under 3 minutes. I also asked many questions and engaged with other groups' projects. I noted features that I would like to implement in future projects. I reflected on my next steps in this class, college, and my career. |\n"
   ]
  },
  {
   "cell_type": "markdown",
   "metadata": {},
   "source": [
    "Final Score: 9.1/10"
   ]
  }
 ],
 "metadata": {
  "language_info": {
   "name": "python"
  }
 },
 "nbformat": 4,
 "nbformat_minor": 2
}
