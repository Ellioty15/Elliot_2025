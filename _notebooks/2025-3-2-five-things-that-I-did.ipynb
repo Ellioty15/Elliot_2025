{
 "cells": [
  {
   "cell_type": "markdown",
   "metadata": {},
   "source": [
    "---\n",
    "layout: post\n",
    "title: 5 things in 12 weeks\n",
    "description: My tasks of the past 12 weeks\n",
    "permalink: /5things/\n",
    "---"
   ]
  },
  {
   "cell_type": "markdown",
   "metadata": {},
   "source": [
    "# 5 Things I Worked on in the Past 12 Weeks – AP CSP\n",
    "\n",
    "This is a reflection and summation of my multitude of tasks in this trimester. Over the past twelve weeks, I was able to take on a variety of tasks that helped me grow not just as a programmer, but also as a collaborator within my team. I felt that these features that I implemented were helpful and powerful within our social media website. Here's a look back at five key things I focused on:\n"
   ]
  },
  {
   "cell_type": "markdown",
   "metadata": {},
   "source": [
    "Some things that I used to track my progress were a kanban board(team collaborative) and a personal burndown list:\n",
    "\n",
    "<img src=\"{{site.baseurl}}/images/burndown1.png\" alt=\"Image 4\">\n",
    "<img src=\"{{site.baseurl}}/images/kanbanboard.png\" alt=\"Image 5\">\n"
   ]
  },
  {
   "cell_type": "markdown",
   "metadata": {},
   "source": [
    "## 1. Frontend Gemini Implementation\n",
    "\n",
    "One of my first major tasks was building a **frontend for Gemini**, Google’s AI model. I integrated a user-friendly interface where users could easily enter prompts and receive responses directly from Gemini. \n",
    "\n",
    "This project taught me a lot about how to handle form inputs, display API results on the frontend, and manage the flow of data between the user and the AI. Designing the layout and making it intuitive was a fun challenge that tested my creativity and ability to design a professional site. It has helped me understand the importance of frontend design in making powerful tools usable.\n",
    "\n",
    "Here's how it looks like.\n",
    "\n",
    "<img src=\"{{site.baseurl}}/images/chatbox.png\" alt=\"Image 2\">\n",
    "\n",
    "I am having some issues with the styling part of the code, so my user messages and AI responses overlap. This is an issue that I can address to improve the social media website.\n",
    "\n",
    "An issue that I was experiencing was that since I had hardcoded my fetch requests to the local backend, I wasn't able to receive AI messages.\n",
    "I corrected these errors using python URI that let me fetch to the correct backend server.\n",
    "\n",
    "<code>const response = await fetch(`${pythonURI}/api/chatbot/update/${messageId}</code>"
   ]
  },
  {
   "cell_type": "markdown",
   "metadata": {},
   "source": [
    "## 2. Backend Gemini API and SQLAlchemy Table\n",
    "\n",
    "To support the frontend, I also developed a **backend API for Gemini**. This handled requests from the frontend and communicated with the Gemini model to process user inputs and return generated results. I got an API key for gemini through google. An error that I ran into was running out of key uses, so I had to refresh the key a couple times.\n",
    "\n",
    "On top of that, I created a **SQLAlchemy database table** to store the Gemini interactions. This meant that not only were we able to generate responses, but we could also save and track conversations in our database for later use. I stored both user and AI messages, and the id of the messages. This was done through my model, in which I declared what I wanted my columns to store. \n",
    "\n",
    "<code>id = db.Column(db.Integer, primary_key=True)</code>\n",
    "\n",
    "<code>message = db.Column(db.Text, nullable=False)</code>\n",
    "\n",
    "<code>timestamp = db.Column(db.DateTime, default=datetime.utcnow, nullable=False)</code> \n",
    "\n",
    "<code>author = db.Column(db.String(50), nullable=False, default=\"AI\")</code> \n",
    "\n",
    "<code>category = db.Column(db.String(50), nullable=False, default=\"response\")</code>\n",
    "\n",
    "My ai_messages table with initialized data:\n",
    "\n",
    "<img src=\"{{site.baseurl}}/images/ai_messagestable.png\" alt=\"Image 2\">\n",
    "\n",
    "Setting up the backend logic and connecting it with the database helped me practice working with Flask, SQLAlchemy, and managing API endpoints. I combined this with CRUD, or create, read, update, and delete functionalities to allow authorized users to send, edit, and delete messages.\n",
    " \n",
    "This is an example of my code that allows the user to send a message.\n",
    "<code>def post(self):\n",
    "        \"\"\"Handles POST requests to send a message and get a response.\"\"\"\n",
    "        try:\n",
    "            data = request.get_json()\n",
    "            if not data:\n",
    "                return jsonify({\"error\": \"Invalid JSON\"}), 400\n",
    "\n",
    "            user_input = data.get(\"user_input\")\n",
    "            if not user_input:\n",
    "                return jsonify({\"error\": \"User input is required\"}), 400\n",
    "\n",
    "            # Save the user's message to the database and get its ID\n",
    "            user_message = AIMessage(message=user_input, author=\"user\", category=\"user_message\")\n",
    "            db.session.add(user_message)\n",
    "            db.session.commit()\n",
    "            user_message_id = user_message.id  # Get the auto-generated ID\n",
    "\n",
    "            # Generate AI response using Google Generative AI\n",
    "            response_text = self.generate_ai_response(user_input)\n",
    "\n",
    "            # Save the AI's response to the database and get its ID\n",
    "            ai_message = AIMessage(message=response_text, author=\"assistant\", category=\"ai_response\")\n",
    "            db.session.add(ai_message)\n",
    "            db.session.commit()\n",
    "            ai_message_id = ai_message.id  # Get the auto-generated ID\n",
    "\n",
    "            return jsonify({\n",
    "                \"user_message_id\": user_message_id,  # ID of the user's message\n",
    "                \"ai_message_id\": ai_message_id,  # ID of the AI's response\n",
    "                \"user_input\": user_input,\n",
    "                \"model_response\": response_text\n",
    "            })\n",
    "        except Exception as e:\n",
    "            return jsonify({\"error\": str(e)}), 500 \n",
    "</code>"
   ]
  },
  {
   "cell_type": "markdown",
   "metadata": {},
   "source": [
    "## 3. Big Idea Blog Reviews of My Learning\n",
    "\n",
    "Throughout the trimester, I also worked on **blogs that reviewed my learning**. These blogs served as a way to reflect on the key concepts we've covered and incoporated as we worked through this project.\n",
    "\n",
    "Writing these posts helped reinforce what I learned while also giving me a space to document my growth over time. Plus, it's been helpful to look back on my blogs to remember how much progress I've made.\n",
    "\n",
    "These blogs helped reinforce my learning experience because I was able to clearly see how the projects and each steps had to do with big ideas. Our planning of our project and features were part of Big Idea 1, which was related to creativity and collaboration. Big Idea 3 was related because we learned how to represent and manipulate data. Big Idea 4 was related as we used the internet to access AWS for deployment. "
   ]
  },
  {
   "cell_type": "markdown",
   "metadata": {},
   "source": [
    "## 4. Collaborative Gemini Group Chat\n",
    "\n",
    "Another highlight was creating a **collaborative Gemini group chat**. Because I am lacking in experience and general knowledge of coding, I collaborated with other people with similar features in order to boost my learning and also aid others in similar situations as me. I created a channel in slack and sent messages to public channels to invite more people to join. This allowed me to realize that I can use all the resources I have available in order to accomplish something, and I have learned how important and impactful, but also how accessible collaboration is.\n",
    "\n",
    "<img src=\"{{site.baseurl}}/images/geminichat.png\" alt=\"Image 3\">"
   ]
  },
  {
   "cell_type": "markdown",
   "metadata": {},
   "source": [
    "## 5. Coder and Backend Documenter in Our Scrum Team\n",
    "\n",
    "Finally, over the past few weeks, I’ve also been contributing as a **coder and backend documenter** on my **scrum team**. \n",
    "\n",
    "This role involved writing backend code to support our team projects, fixing bugs, and making sure our API routes and database functions worked properly. I also took on the responsibility of documenting the backend code, which is really important for making sure our team members (and future developers) can understand how everything works. \n",
    "\n",
    "This experience taught me a lot about teamwork, code clarity, and the value of solid documentation.\n"
   ]
  },
  {
   "cell_type": "markdown",
   "metadata": {},
   "source": [
    "## Final Thoughts\n",
    "\n",
    "Looking back, these five projects have been some of my most meaningful work in AP CSP so far. I gained experience across both frontend and backend development, learned how to work as part of a team, and built confidence in my ability to manage more advanced coding tasks. \n",
    "\n",
    "I’m excited to keep improving my skills and seeing what I will be able to do at the end of the school year. I am inspired to start my own projects where users can interact with a shop and purchase items, or even productivity tools that keeps students on track and focused.\n"
   ]
  }
 ],
 "metadata": {
  "language_info": {
   "name": "python"
  }
 },
 "nbformat": 4,
 "nbformat_minor": 2
}
