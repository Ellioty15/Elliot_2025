{
 "cells": [
  {
   "cell_type": "markdown",
   "metadata": {},
   "source": [
    "---\n",
    "layout: post\n",
    "title: Tech Talk Notes\n",
    "description: My Tech Talk Notes Across The Year\n",
    "---"
   ]
  },
  {
   "cell_type": "markdown",
   "metadata": {},
   "source": [
    "# Tech Talk Notes 3/17/2025\n",
    "\n",
    "You can create a line using NumPy.  \n",
    "Use Mathplot commands to format and display them.  \n",
    "Steps to format a graph:  \n",
    "   1. Title the graph.  \n",
    "   2. Define the axes.  \n",
    "   3. Plot intercepts.  \n",
    "   4. Use the print command.  \n",
    "\n",
    "## Application to project, Idea:\n",
    "<p>\n",
    "Send mathematical equations from the frontend and retrieve results from the backend \n",
    "</p>\n",
    "-------------------------------------------------------------------------------------------------"
   ]
  },
  {
   "cell_type": "markdown",
   "metadata": {},
   "source": []
  },
  {
   "cell_type": "markdown",
   "metadata": {},
   "source": []
  }
 ],
 "metadata": {
  "language_info": {
   "name": "python"
  }
 },
 "nbformat": 4,
 "nbformat_minor": 2
}
