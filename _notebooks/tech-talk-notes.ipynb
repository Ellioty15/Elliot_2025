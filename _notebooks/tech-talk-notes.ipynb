{
 "cells": [
  {
   "cell_type": "markdown",
   "metadata": {},
   "source": [
    "---\n",
    "layout: post\n",
    "title: Tech Talk Notes\n",
    "description: My Tech Talk Notes Across The Year\n",
    "---"
   ]
  },
  {
   "cell_type": "markdown",
   "metadata": {},
   "source": [
    "# Tech Talk Notes 3/17/2025\n",
    "\n",
    "You can create a line using NumPy.  \n",
    "Use Mathplot commands to format and display them.  \n",
    "Steps to format a graph:  \n",
    "   1. Title the graph.  \n",
    "   2. Define the axes.  \n",
    "   3. Plot intercepts.  \n",
    "   4. Use the print command.  \n",
    "\n",
    "## Application to project, Idea:\n",
    "<p>\n",
    "Send mathematical equations from the frontend and retrieve results from the backend \n",
    "</p>\n",
    "-------------------------------------------------------------------------------------------------"
   ]
  },
  {
   "cell_type": "markdown",
   "metadata": {},
   "source": [
    "# Tech Talk Notes 3/31/2025\n",
    "## UI\n",
    "# UI Options for GitHub Pages  \n",
    "\n",
    "## Three Choices for UI Design:  \n",
    "1. **Use a GitHub Pages Theme (Mandatory)**  \n",
    "   - A GitHub Pages theme provides a pre-built design for your site.  \n",
    "   - Examples: Minima, Bootstrap, and Tailwind CSS.  \n",
    "\n",
    "2. **Responsive Design**  \n",
    "   - The UI should dynamically adjust as the window resizes.  \n",
    "   - Elements should reposition and scale based on screen size.  \n",
    "   - Minima, Bootstrap, and Tailwind CSS are all responsive frameworks.  \n",
    "\n",
    "3. **Designing with Tailwind CSS**  \n",
    "   - Start by designing with Tailwind CSS to create a flexible UI.  \n",
    "   - Optimize code to avoid unnecessary repetition.  \n",
    "\n",
    "## Jekyll for GitHub Pages  \n",
    "\n",
    "### What is Jekyll?  \n",
    "- Jekyll is a static site generator used for GitHub Pages.  \n",
    "- It converts Markdown and HTML files into a complete website.  \n",
    "\n",
    "### Key Jekyll Concepts  \n",
    "\n",
    "#### Front Matter  \n",
    "- Front matter is a section at the top of a file enclosed in triple dashes (`---`).  \n",
    "- It defines metadata and settings for that page.  \n",
    "\n",
    "#### Layouts  \n",
    "- A **layout** is a template that determines the structure of a page.  \n",
    "- Layouts can be **cascaded**, meaning one layout can inherit another.  \n",
    "- Themes include **base layouts**, which can be customized.  \n",
    "\n",
    "#### Using Layouts in a Page  \n",
    "- Specify the layout in the front matter at the top of a file:  \n",
    "\n",
    "  ```yaml\n",
    "  ---\n",
    "  layout: default\n",
    "  ---\n",
    "\n",
    "Bootstrap and Tailwind defines special rules in classes\n",
    "\n",
    "Read Bootstrap and Tailwind pages to learn more\n"
   ]
  }
 ],
 "metadata": {
  "language_info": {
   "name": "python"
  }
 },
 "nbformat": 4,
 "nbformat_minor": 2
}
