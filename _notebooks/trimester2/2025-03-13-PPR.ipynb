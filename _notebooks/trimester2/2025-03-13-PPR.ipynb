{
 "cells": [
  {
   "cell_type": "markdown",
   "metadata": {},
   "source": [
    "---\n",
    "layout: post\n",
    "title: My PPR Code \n",
    "description: How my code meets College Board requirements\n",
    "permalink: /PPR/\n",
    "comments: true\n",
    "---"
   ]
  },
  {
   "cell_type": "markdown",
   "metadata": {},
   "source": [
    "# Parts of PPR \n",
    "\n",
    "## List Creation\n",
    "<code>\n",
    "def generate_ai_response(self, user_input):\n",
    "    try:\n",
    "        response = self.chat_session.send_message(user_input)\n",
    "        return response.text.rstrip(\"\\n\") if response.text else \"Sorry, I couldn't process that.\"\n",
    "</code>\n",
    "\n",
    "### Explanation:\n",
    "This function processes chat interactions using a list stored within self.chat_session. The session maintains a conversation history internally, ensuring continuity in the chatbot’s responses. Each user input is added to the session’s history, allowing the AI to generate responses with context.\n",
    "\n",
    "------------------------------------------------------------------------------------------------------------------------"
   ]
  },
  {
   "cell_type": "markdown",
   "metadata": {},
   "source": [
    "## List Processing\n",
    "<code>\n",
    "def update_history(self, role: str, message: str):\n",
    "    if len(self.history) >= self.MAX_HISTORY:\n",
    "        self.history.pop(0)  \n",
    "    self.history.append({\"role\": role, \"parts\": [message]})\n",
    "</code>\n",
    "\n",
    "### Explanation:\n",
    "\n",
    "This function processes the self.history list by adding new messages and ensuring it does not exceed a set length. If the history reaches MAX_HISTORY, the oldest message is removed to maintain a manageable chat log.\n",
    "\n",
    "\n",
    "------------------------------------------------------------------------------------------------------------------------"
   ]
  },
  {
   "cell_type": "markdown",
   "metadata": {},
   "source": [
    "## Function (with paramaters, and if-else statement)\n",
    "<code>\n",
    "def post(self):\n",
    "    try:\n",
    "        data = request.get_json()\n",
    "        if not data: \n",
    "            return jsonify({\"error\": \"Invalid JSON\"}), 400\n",
    "\n",
    "        user_input = data.get(\"user_input\")\n",
    "        if not user_input: \n",
    "            return jsonify({\"error\": \"User input is required\"}), 400\n",
    "\n",
    "        user_message = AIMessage(message=user_input, author=\"user\", category=\"user_message\")\n",
    "        db.session.add(user_message)\n",
    "        db.session.commit()\n",
    "        user_message_id = user_message.id  \n",
    "\n",
    "        response_text = self.generate_ai_response(user_input)\n",
    "\n",
    "        ai_message = AIMessage(message=response_text, author=\"assistant\", category=\"ai_response\")\n",
    "        db.session.add(ai_message)\n",
    "        db.session.commit()\n",
    "        ai_message_id = ai_message.id  \n",
    "\n",
    "        return jsonify({\n",
    "            \"user_message_id\": user_message_id,\n",
    "            \"ai_message_id\": ai_message_id,\n",
    "            \"user_input\": user_input,\n",
    "            \"model_response\": response_text\n",
    "        })\n",
    "    except Exception as e:\n",
    "        return jsonify({\"error\": str(e)}), 500 \n",
    "</code>\n",
    "\n",
    "Explanation: \n",
    "This function handles a new chatbot interaction by accepting JSON input and extracting the user’s message. It ensures that the input is valid by checking if data and <code>user_input</code> are provided, returning an error if they are missing. The function then stores the user’s message in the database, generates an AI response using Google Generative AI, and saves the response. The function includes error handling to catch unexpected issues, ensuring smooth operation of the chatbot system."
   ]
  },
  {
   "cell_type": "markdown",
   "metadata": {},
   "source": [
    "## Call to Function\n",
    "<code>response_text = self.generate_ai_response(user_input)</code>\n",
    "\n",
    "### Explanation: \n",
    "This line calls the <code>generate_ai_response</code> function to process the user’s input and return an AI-generated response. The function interacts with the Google Generative AI model to generate relevant replies based on the chatbot’s configuration. This ensures that every user input is processed and responded to dynamically, enhancing the chatbot's functionality."
   ]
  },
  {
   "cell_type": "markdown",
   "metadata": {},
   "source": [
    "## Sequencing\n",
    "<code>\n",
    "data = request.get_json()\n",
    "user_input = data.get(\"user_input\")\n",
    "response_text = self.generate_ai_response(user_input)\n",
    "</code>\n",
    "\n",
    "### Explanation:\n",
    "\n",
    "The code sequences through data, user_input, and response_text.\n",
    "------------------------------------------------------------------------------------------------------------------------"
   ]
  },
  {
   "cell_type": "markdown",
   "metadata": {},
   "source": [
    "## Selection\n",
    "\n",
    "<code>\n",
    " try:\n",
    "            data = request.get_json()\n",
    "            if not data:\n",
    "                return jsonify({\"error\": \"Invalid JSON\"}), 400\n",
    "\n",
    "            user_input = data.get(\"user_input\")\n",
    "            if not user_input:\n",
    "                return jsonify({\"error\": \"User input is required\"}), 400\n",
    "</code>\n",
    "\n",
    "### Explanation:\n",
    "This code will check different conditions using the if not statements, and returns the codes depending on the outcome of the request. \n",
    "\n",
    "------------------------------------------------------------------------------------------------------------------------"
   ]
  },
  {
   "cell_type": "markdown",
   "metadata": {},
   "source": [
    "## Iteration\n",
    "<code>\n",
    "for post in posts:\n",
    "    json_ready.append(post.read())\n",
    "</code>\n",
    "\n",
    "### Explanation:\n",
    "This for loop will iterate over posts. Each post wil which is a collection of database objects.\n",
    "Each post is processed using .read(), converting it into a dictionary.\n",
    "The result is appended to json_ready, creating a structured list of processed data.\n",
    "\n",
    "------------------------------------------------------------------------------------------------------------------------"
   ]
  },
  {
   "cell_type": "markdown",
   "metadata": {},
   "source": [
    "### Summary:\n",
    "\n",
    "List Creation: Used to maintain conversation history within self.chat_session, allowing the AI to generate responses with context.\n",
    "Function: Used to process user input, generate AI responses, and implement error handling to ensure robust chatbot interactions.\n",
    "Call to Function: Used to retrieve and process user messages, facilitating smooth communication between the chatbot and users.\n",
    "This structured API enables efficient AI-driven conversations by maintaining context, handling errors, and ensuring seamless interaction, providing users with a reliable and responsive chatbot experience."
   ]
  }
 ],
 "metadata": {
  "language_info": {
   "name": "python"
  }
 },
 "nbformat": 4,
 "nbformat_minor": 2
}
