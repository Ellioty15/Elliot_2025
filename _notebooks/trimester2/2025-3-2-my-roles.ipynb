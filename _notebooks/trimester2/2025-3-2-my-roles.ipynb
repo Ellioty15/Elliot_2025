{
 "cells": [
  {
   "cell_type": "markdown",
   "metadata": {},
   "source": [
    "---\n",
    "layout: post\n",
    "title: My roles and contributions in the past 12 weeks\n",
    "description: Here are some things I was in charge of and contributed to\n",
    "permalink: /myroles/\n",
    "---"
   ]
  },
  {
   "cell_type": "markdown",
   "metadata": {},
   "source": [
    "## Introduction\n",
    "This trimester in AP Computer Science Principles (AP CSP), I had the opportunity to work in a Scrum team with five other students, unlike last trimester which I worked with 3 other students. Our team of 6 was technically two teams of 3, and I was in a group with Aranya and Abby. Aranya was our assistant scrum master and Abby and I were both coders."
   ]
  },
  {
   "cell_type": "markdown",
   "metadata": {},
   "source": [
    "## My Role in the Team\n",
    "As a coder in the team, my responsibilities included:\n",
    "- Writing and debugging code for our project.\n",
    "- Collaborating with teammates to integrate features.\n",
    "- Reviewing pull requests and providing feedback.\n",
    "\n",
    "As mentioned before, although we were a team of three, I wanted to focus on the collaboration aspect of our team. Therefore, I encouraged communication even though I wasn't a scrum or assistant scrum master. This brought about positive changes in our group dynamic, with more progress that was shown in both our website and grades."
   ]
  },
  {
   "cell_type": "markdown",
   "metadata": {},
   "source": [
    "## Key Takeaways\n",
    "- **Effective Communication is Crucial**: Frequent in depth communication with planning is the most important factor in the success of a group.\n",
    "- **Never assume that others know what you're doing**: Constant clarification is needed, and we shouldn't judge each other for not being able to keep track of each other's code and features. There's a reason we communicate through slack and have burndown lists in our Kanban Board.\n",
    "- **Iterative Development Works Best**: Breaking tasks into smaller sprints made our project manageable and improved overall quality. If I was told that I would be creating a social media site in 12 weeks, I would feel overtaken by such a large task. However, because we had split our project into parts that built upon each other, I was able to manage it much better and see the progress I was making. I was also able to improve on things that I had been working on as I worked on new parts of my feature.\n"
   ]
  }
 ],
 "metadata": {
  "language_info": {
   "name": "python"
  }
 },
 "nbformat": 4,
 "nbformat_minor": 2
}
