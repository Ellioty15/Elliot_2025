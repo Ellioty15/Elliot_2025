{
 "cells": [
  {
   "cell_type": "markdown",
   "metadata": {},
   "source": [
    "---\n",
    "layout: post\n",
    "title: Student Panel blog\n",
    "description: My notes from the college student panel\n",
    "permalink: /notes/\n",
    "---"
   ]
  },
  {
   "cell_type": "markdown",
   "metadata": {},
   "source": [
    "# Things to Think About and Know  \n",
    "\n",
    "## General Advice in the Real World  \n",
    "- Projects and technical skills  \n",
    "- How to think like a programmer  \n",
    "- Best ways to find internships in college:  \n",
    "  - Search online for jobs/internships  \n",
    "  - Reach out to smaller startups  \n",
    "- Make connections  \n",
    "- Don’t wait to be asked—be proactive and suggest your solutions  \n",
    "- Understand problems in the world  \n",
    "- Know how to answer the question **“Tell me about yourself”**  \n",
    "- Colleges that accept AP credits are good (not like Ivys) and, if not better, at least comparable to those that don't  \n",
    "- Communicate ideas efficiently (**THIS IS IMPORTANT**): less is more  \n",
    "- Think about the impact you made in high school  \n",
    "\n",
    "---\n",
    "\n",
    "## More Specific Points About CS  \n",
    "- Understand your code and know what each line is for  \n",
    "- Explain what you want to do and your process  \n",
    "- Make websites and meet new people  \n",
    "- Consider club activities and involvements—they will be highly encouraged  \n",
    "- Go to career fairs  \n",
    "- Look through GitHub to see what other people have made  \n",
    "- Talk to others about projects  \n",
    "\n",
    "---\n",
    "\n",
    "## Overall Reflection  \n",
    "- There are a lot of things to consider as I go into the future. I asked Edwin for recommendations to strengthen my CS knowledge, and his suggestions were:  \n",
    "    - Join clubs at Del Norte or gain leadership in the ones I’m already part of  \n",
    "    - Reach out to UCSD students and CyberSecurity or Computer Science-related clubs to learn from them as well  \n",
    "    - Work on projects—it doesn't matter how big or small they are  \n",
    "---\n",
    "\n",
    "<img src=\"{{site.baseurl}}/images/IMG_4261.JPG\" alt= \"Image 1\">"
   ]
  }
 ],
 "metadata": {
  "language_info": {
   "name": "python"
  }
 },
 "nbformat": 4,
 "nbformat_minor": 2
}
