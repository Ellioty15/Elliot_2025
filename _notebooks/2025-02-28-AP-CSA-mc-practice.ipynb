{
 "cells": [
  {
   "cell_type": "markdown",
   "metadata": {},
   "source": [
    "---\n",
    "layout: post\n",
    "title: AP CSA MC process and learnings\n",
    "description: My learnings from the test and \n",
    "permalink: /CSApractice/\n",
    "---"
   ]
  },
  {
   "cell_type": "markdown",
   "metadata": {},
   "source": [
    "# Before the practice\n",
    "\n",
    "<li> I have practiced some CSA with codingbat java\n",
    "<li> I know things like strings and substrings, but I do not have an understanding of functions and the classes. \n",
    "<li> I need practice with all parts of CSA and learning about how each part works together.\n",
    "<li> I am working with Aranya who knows more about Java and is helping me learn."
   ]
  },
  {
   "cell_type": "markdown",
   "metadata": {},
   "source": [
    "# During the practice\n",
    "<h3>Things to Keep in Mind</h3>\n",
    "<li> Dividing by int will only return an int, operations with only int will return an int.\n",
    "<li> Arraylist is a dynamic Array where it will expand as I input more values.\n",
    "<li> Demorgan's Law states that !(A&B) = !A || !B, or !(A||B) = !A && !B\n",
    "<li> 2D Arrays create a row and column, so you can declare how many rows and columns that you want.\n",
    "<li> Remeber that Iteration is happening until the conditions are not true."
   ]
  },
  {
   "cell_type": "markdown",
   "metadata": {},
   "source": [
    "# After the practice\n",
    "\n",
    "<h3> Reviewing my practice:</h3>"
   ]
  },
  {
   "cell_type": "markdown",
   "metadata": {},
   "source": [
    "<br>\n",
    "<img src=\"{{site.baseurl}}/images/MCPractice.png\" alt=\"Image 1\">\n",
    "<br>\n",
    "\n",
    "<li>The most questions missed were in topic 2C.</li>\n",
    "\n",
    "<br>\n",
    "<img src=\"{{site.baseurl}}/images/question2c.png\" alt=\"Image 2\">\n",
    "<br>\n",
    "\n",
    "<li>This topic is under section 2, which is the Code Logic section.</li>\n",
    "<li>The requirement is as follows:</li>\n",
    "\n",
    "<br>\n",
    "<img src=\"{{site.baseurl}}/images/2crequirement.png\" alt=\"Image 3\">\n",
    "<br>\n",
    "\n",
    "<li>This tells me that I need to review coding logic, especially following written code.</li>\n",
    "\n",
    "<h3>Things to Focus, Next Steps</h3>\n",
    "\n",
    "<li>Recursion – understand the concepts.</li>\n",
    "<li>Iteration – remember to follow the code.</li>\n",
    "<li>In general, learn more about Java and review concepts in order to have a better and faster understanding of code and what the questions are asking for.</li>\n",
    "<li>There is a lot of improvement still needed. One thing I will do is review one problem per day and review the concepts.</li>\n"
   ]
  }
 ],
 "metadata": {
  "language_info": {
   "name": "python"
  }
 },
 "nbformat": 4,
 "nbformat_minor": 2
}
