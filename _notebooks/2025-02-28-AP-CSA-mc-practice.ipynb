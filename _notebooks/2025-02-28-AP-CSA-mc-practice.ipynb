{
 "cells": [
  {
   "cell_type": "markdown",
   "metadata": {},
   "source": [
    "---\n",
    "layout: post\n",
    "title: AP CSA MC process and learnings\n",
    "description: My learnings from the test and \n",
    "permalink: /CSApractice/\n",
    "---"
   ]
  },
  {
   "cell_type": "markdown",
   "metadata": {},
   "source": [
    "# Before the practice\n",
    "\n",
    "<li> I have practiced some CSA with codingbat java\n",
    "<li> I know things like strings and substrings, but I do not have an understanding of functions and the classes. \n",
    "<li> I need practice with all parts of CSA and learning about how each part works together.\n",
    "<li> I am working with Aranya who knows more about Java and is helping me learn."
   ]
  },
  {
   "cell_type": "markdown",
   "metadata": {},
   "source": [
    "# During the practice\n",
    "<h3>Things to Keep in Mind</h3>\n",
    "<li> Dividing by int will only return an int, operations with only int will return an int.\n",
    "<li> Arraylist is a dynamic Array where it will expand as I input more values.\n",
    "<li> Demorgan's Law states that !(A&B) = !A || !B, or !(A||B) = !A && !B\n",
    "<li> 2D Arrays create a row and column, so you can declare how many rows and columns that you want.\n",
    "<li> Remeber that Iteration is happening until the conditions are not true."
   ]
  },
  {
   "cell_type": "markdown",
   "metadata": {},
   "source": [
    "# After the practice\n",
    "\n",
    "<h3> Reviewing my practice:</h3>"
   ]
  },
  {
   "cell_type": "markdown",
   "metadata": {},
   "source": [
    "<br>\n",
    "<img src=\"{{site.baseurl}}/images/MCPractice.png\" alt=\"Image 1\">\n",
    "<br>\n",
    "\n",
    "The most questions missed were in topic 2C.\n",
    "\n",
    "<br>\n",
    "<img src=\"{{site.baseurl}}/images/question2c.png\" alt=\"Image 2\">\n",
    "<br>\n",
    "\n",
    "This topic is under section 2, which is the Code Logic section.\n",
    "The requirement is as follows:\n",
    "\n",
    "<br>\n",
    "<img src=\"{{site.baseurl}}/images/2crequirement.png\" alt=\"Image 3\">\n",
    "<br>\n",
    "\n",
    "This tells me that I need to review coding logic, especially following written code.\n",
    "\n",
    "<img src=\"{{site.baseurl}}/images/CSAstats.png\" alt=\"Image 4\">\n",
    "\n",
    "I have a decent understanding of arrays and booleans.\n",
    "\n",
    "The topic that I need the most practice with is recursion, but I will be getting to all the topics. \n",
    "\n",
    "\n",
    "\n",
    "\n"
   ]
  },
  {
   "cell_type": "markdown",
   "metadata": {},
   "source": [
    "<h3>Things to Focus, Next Steps</h3>\n",
    "\n",
    "<li>Recursion – understand the concepts.</li>\n",
    "<li>Iteration – remember to follow the code.</li>\n",
    "<li>In general, learn more about Java and review concepts in order to have a better and faster understanding of code and what the questions are asking for.</li>\n",
    "<li>There is a lot of improvement still needed. One thing I will do is review one problem per day and review the concepts.</li>"
   ]
  },
  {
   "cell_type": "markdown",
   "metadata": {},
   "source": [
    "# Corrections: \n",
    "\n",
    "### Unit 2: \n",
    "<img src=\"{{site.baseurl}}/images/tri2question8.png\" alt=\"Image 5\">\n",
    "My answer was \"II only\" but I should have picked \"I and II only\" because option 1 would still create a new object, just without parameters.\n"
   ]
  },
  {
   "cell_type": "markdown",
   "metadata": {},
   "source": [
    "### Unit 3\n",
    "\n",
    "<img src=\"{{site.baseurl}}/images/tri2question36.png\" alt=\"Image 6\">\n",
    "\n",
    "My answer was incorrect because 12 would result in the same output as 8. The correct answer is 8, 9, and 11 because 8 is even and <code>y = 3</code>, 9 is odd and not greater than 9 so <code>y = 1</code>, 11 is odd and greater than 9 so <code>y = 5</code>"
   ]
  },
  {
   "cell_type": "markdown",
   "metadata": {},
   "source": [
    "### Unit 4\n",
    "<img src=\"{{site.baseurl}}/images/tri2question37.png\" alt=\"Image 7\">\n",
    "\n",
    "My answer is incorrect because choice 3 also works, since once the integer is equal to 7, the loop will end as the conditions are no longer true.\n"
   ]
  },
  {
   "cell_type": "markdown",
   "metadata": {},
   "source": [
    "### Unit 5\n",
    "<img src=\"{{site.baseurl}}/images/tri2question25.png\" alt=\"Image 8\">\n",
    "\n",
    "I answered that all three options were correct. This was false because a box with a smaller volume still could have a larger surface area than the other box. This was an issue where I didn't fully understand or comprehend the question. The answer should have been I and II which both return the depth of the box."
   ]
  }
 ],
 "metadata": {
  "language_info": {
   "name": "python"
  }
 },
 "nbformat": 4,
 "nbformat_minor": 2
}
