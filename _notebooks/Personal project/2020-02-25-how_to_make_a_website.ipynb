{
 "cells": [
  {
   "cell_type": "markdown",
   "metadata": {},
   "source": [
    "---\n",
    "layout: post\n",
    "title: How to build a website\n",
    "description: guide to what I understand on the coding and development process\n",
    "permalink: /guide/\n",
    "---"
   ]
  },
  {
   "cell_type": "markdown",
   "metadata": {},
   "source": [
    "# Three steps to building a website: \n",
    "### 1. Planning\n",
    "- What is the purpose?\n",
    "- What kind of feautures do we want?\n",
    "- How long for each phase?\n",
    "- what do we want the front end to look like\n",
    "- what kind of processes and data do we want to store\n",
    "- Split the roles of the project\n",
    "\n",
    "\n",
    "### 2. Building\n",
    "- Front end\n",
    "    - build functions that correctly fetch to API endpoints in the backend\n",
    "    - have a consistent and appealing theme\n",
    "- Back End\n",
    "    - make APIs and Models \n",
    "        - APIs act when fetched upon by the front end fetch functions\n",
    "        - Models are used to store categories of data in the back end, connected with API\n",
    "\n",
    "### 3. Deployment\n",
    "- Deploy pages and make the site official"
   ]
  },
  {
   "cell_type": "markdown",
   "metadata": {},
   "source": [
    "### install tools\n",
    "- make a github account(do not use an email managed by school)\n",
    "- reference [this website made by my teacher](https://nighthawkcoders.github.io/portfolio_2025/devops/tools/setup), this will get you started on the tools and necessary apps"
   ]
  }
 ],
 "metadata": {
  "language_info": {
   "name": "python"
  }
 },
 "nbformat": 4,
 "nbformat_minor": 2
}
