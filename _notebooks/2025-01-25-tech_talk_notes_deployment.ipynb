{
 "cells": [
  {
   "cell_type": "markdown",
   "metadata": {},
   "source": [
    "---\n",
    "layout: post\n",
    "title: Tech Talk notes for deployment\n",
    "description: tech talk notes\n",
    "permalink: /tech_talk_deployment/\n",
    "---"
   ]
  },
  {
   "cell_type": "markdown",
   "metadata": {},
   "source": [
    "# deployment tech talk notes\n",
    "- everyone should be able to login, passwords are the same\n",
    "- DNS: domain name service, maps a website name to an IP address \n",
    "- NS: Name service, service providers connect people to ips with a \"database\"\n",
    "1. Create record: use flask address, put into value. Name of project in Record Name\n",
    "2. go to nginx_file in backend, rename to frostbyte.stu.nginx_file, this tells us what our subdomain is \n",
    "    - server_name change from flask 2025 to frostbyte.stu\n",
    "    - Change everywhere you see the domain flask2025.stu.nighthawkcodingsociety.com\n",
    "    - nginx_file is a listener to the internet, it takes the server name and maps it to the machine localhost port\n",
    "3. Dockerfile\n",
    "    - match python version\n",
    "    - Docker is a container, similar to venv\n",
    "    - Docker creates a virtual environment to store dependencies\n",
    "    - use development instead of production for ENV FLASK_ENV=\n",
    "4. Docker-compose.yml\n",
    "    - Change image to frostbyte\n",
    "    - Change ports, they should be the same\n",
    "    - put your database into the instance directory, database is seperate from virtual machine\n",
    "5. Cockpit\n",
    "    - in terminal first type ls\n",
    "    - then git clone the wanted repository\n",
    "    - rm -rf deletes a repository\n",
    "    - git clone, repository, then the desired name to change name\n",
    "    - next steps\n",
    "        - cd into our own repository\n",
    "        - docker-compose down\n",
    "        - docker ps\n",
    "        - docker-compose build\n"
   ]
  },
  {
   "cell_type": "markdown",
   "metadata": {},
   "source": [
    "symbolic link notes\n",
    "\n",
    "...\n",
    "\n"
   ]
  },
  {
   "cell_type": "markdown",
   "metadata": {},
   "source": []
  },
  {
   "cell_type": "markdown",
   "metadata": {},
   "source": []
  },
  {
   "cell_type": "markdown",
   "metadata": {},
   "source": []
  },
  {
   "cell_type": "markdown",
   "metadata": {},
   "source": [
    "### My job as a backend admin engineer\n",
    "- open the bcakend flask site and design it \n",
    "- incorporate admin functions"
   ]
  }
 ],
 "metadata": {
  "language_info": {
   "name": "python"
  }
 },
 "nbformat": 4,
 "nbformat_minor": 2
}
